{
 "cells": [
  {
   "cell_type": "code",
   "execution_count": 6,
   "metadata": {},
   "outputs": [],
   "source": [
    "import pandas as pd\n",
    "import csv\n",
    "import numpy as py\n",
    "import matplotlib.pyplot as plt\n",
    "import scipy.stats as stats\n",
    "import seaborn as sns\n",
    "import math\n",
    "\n",
    "from math import *\n",
    "from pandas import *\n",
    "from matplotlib import *\n",
    "from IPython.display import Markdown as md\n",
    "%matplotlib inline"
   ]
  },
  {
   "cell_type": "markdown",
   "metadata": {},
   "source": [
    "# 1. Deskripsi Statistika"
   ]
  },
  {
   "cell_type": "code",
   "execution_count": 62,
   "metadata": {
    "scrolled": false
   },
   "outputs": [
    {
     "name": "stdout",
     "output_type": "stream",
     "text": [
      "   id  Daerah  SumbuUtama  SumbuKecil  Keunikan  AreaBulatan   Diameter  \\\n",
      "0   1    5781  128.288875   58.470846  0.890095         5954  85.793926   \n",
      "1   2    4176  109.348294   49.837688  0.890098         4277  72.918093   \n",
      "2   3    4555  114.427991   52.151207  0.890105         4706  76.155145   \n",
      "3   4    4141  108.701191   49.457349  0.890499         4236  72.611879   \n",
      "4   5    5273  122.747869   55.757848  0.890876         5431  81.937733   \n",
      "\n",
      "   KadarAir  Keliling   Bulatan    Ransum  Kelas  \n",
      "0  0.674090   316.756  0.724041  2.194066      1  \n",
      "1  0.596231   260.346  0.774227  2.194088      1  \n",
      "2  0.776641   279.606  0.732159  2.194158      1  \n",
      "3  0.633180   260.478  0.766960  2.197877      1  \n",
      "4  0.669842   302.730  0.723031  2.201446      1  \n"
     ]
    }
   ],
   "source": [
    "dataset = read_csv(r\"Gandum.csv\")\n",
    "print(dataset.head(5))"
   ]
  },
  {
   "cell_type": "markdown",
   "metadata": {},
   "source": [
    "### Banyaknya data, rata-rata, standar deviasi, nilai minimum, kuartil 1, kuartil 2, kuartil 3 dan nilai maksimum"
   ]
  },
  {
   "cell_type": "code",
   "execution_count": 3,
   "metadata": {
    "scrolled": false
   },
   "outputs": [
    {
     "data": {
      "text/html": [
       "<div>\n",
       "<style scoped>\n",
       "    .dataframe tbody tr th:only-of-type {\n",
       "        vertical-align: middle;\n",
       "    }\n",
       "\n",
       "    .dataframe tbody tr th {\n",
       "        vertical-align: top;\n",
       "    }\n",
       "\n",
       "    .dataframe thead th {\n",
       "        text-align: right;\n",
       "    }\n",
       "</style>\n",
       "<table border=\"1\" class=\"dataframe\">\n",
       "  <thead>\n",
       "    <tr style=\"text-align: right;\">\n",
       "      <th></th>\n",
       "      <th>id</th>\n",
       "      <th>Daerah</th>\n",
       "      <th>SumbuUtama</th>\n",
       "      <th>SumbuKecil</th>\n",
       "      <th>Keunikan</th>\n",
       "      <th>AreaBulatan</th>\n",
       "      <th>Diameter</th>\n",
       "      <th>KadarAir</th>\n",
       "      <th>Keliling</th>\n",
       "      <th>Bulatan</th>\n",
       "      <th>Ransum</th>\n",
       "      <th>Kelas</th>\n",
       "    </tr>\n",
       "  </thead>\n",
       "  <tbody>\n",
       "    <tr>\n",
       "      <td>count</td>\n",
       "      <td>500.000000</td>\n",
       "      <td>500.000000</td>\n",
       "      <td>500.000000</td>\n",
       "      <td>500.000000</td>\n",
       "      <td>500.000000</td>\n",
       "      <td>500.000000</td>\n",
       "      <td>500.000000</td>\n",
       "      <td>500.000000</td>\n",
       "      <td>500.000000</td>\n",
       "      <td>500.000000</td>\n",
       "      <td>500.000000</td>\n",
       "      <td>500.000000</td>\n",
       "    </tr>\n",
       "    <tr>\n",
       "      <td>mean</td>\n",
       "      <td>250.500000</td>\n",
       "      <td>4801.246000</td>\n",
       "      <td>116.045171</td>\n",
       "      <td>53.715246</td>\n",
       "      <td>0.878764</td>\n",
       "      <td>4937.048000</td>\n",
       "      <td>77.771158</td>\n",
       "      <td>0.648372</td>\n",
       "      <td>281.479722</td>\n",
       "      <td>0.761737</td>\n",
       "      <td>2.150915</td>\n",
       "      <td>1.502000</td>\n",
       "    </tr>\n",
       "    <tr>\n",
       "      <td>std</td>\n",
       "      <td>144.481833</td>\n",
       "      <td>986.395491</td>\n",
       "      <td>18.282626</td>\n",
       "      <td>4.071075</td>\n",
       "      <td>0.036586</td>\n",
       "      <td>1011.696255</td>\n",
       "      <td>8.056867</td>\n",
       "      <td>0.094367</td>\n",
       "      <td>37.335402</td>\n",
       "      <td>0.061702</td>\n",
       "      <td>0.249767</td>\n",
       "      <td>0.500497</td>\n",
       "    </tr>\n",
       "    <tr>\n",
       "      <td>min</td>\n",
       "      <td>1.000000</td>\n",
       "      <td>2522.000000</td>\n",
       "      <td>74.133114</td>\n",
       "      <td>39.906517</td>\n",
       "      <td>0.719916</td>\n",
       "      <td>2579.000000</td>\n",
       "      <td>56.666658</td>\n",
       "      <td>0.409927</td>\n",
       "      <td>197.015000</td>\n",
       "      <td>0.174590</td>\n",
       "      <td>1.440796</td>\n",
       "      <td>1.000000</td>\n",
       "    </tr>\n",
       "    <tr>\n",
       "      <td>25%</td>\n",
       "      <td>125.750000</td>\n",
       "      <td>4042.750000</td>\n",
       "      <td>104.116098</td>\n",
       "      <td>51.193576</td>\n",
       "      <td>0.863676</td>\n",
       "      <td>4170.250000</td>\n",
       "      <td>71.745308</td>\n",
       "      <td>0.572632</td>\n",
       "      <td>255.883000</td>\n",
       "      <td>0.731991</td>\n",
       "      <td>1.983939</td>\n",
       "      <td>1.000000</td>\n",
       "    </tr>\n",
       "    <tr>\n",
       "      <td>50%</td>\n",
       "      <td>250.500000</td>\n",
       "      <td>4735.000000</td>\n",
       "      <td>115.405140</td>\n",
       "      <td>53.731199</td>\n",
       "      <td>0.890045</td>\n",
       "      <td>4857.000000</td>\n",
       "      <td>77.645277</td>\n",
       "      <td>0.626117</td>\n",
       "      <td>280.045500</td>\n",
       "      <td>0.761288</td>\n",
       "      <td>2.193599</td>\n",
       "      <td>2.000000</td>\n",
       "    </tr>\n",
       "    <tr>\n",
       "      <td>75%</td>\n",
       "      <td>375.250000</td>\n",
       "      <td>5495.500000</td>\n",
       "      <td>129.046792</td>\n",
       "      <td>56.325158</td>\n",
       "      <td>0.907578</td>\n",
       "      <td>5654.250000</td>\n",
       "      <td>83.648598</td>\n",
       "      <td>0.726633</td>\n",
       "      <td>306.062500</td>\n",
       "      <td>0.796361</td>\n",
       "      <td>2.381612</td>\n",
       "      <td>2.000000</td>\n",
       "    </tr>\n",
       "    <tr>\n",
       "      <td>max</td>\n",
       "      <td>500.000000</td>\n",
       "      <td>7453.000000</td>\n",
       "      <td>227.928583</td>\n",
       "      <td>68.977700</td>\n",
       "      <td>0.914001</td>\n",
       "      <td>7720.000000</td>\n",
       "      <td>97.413830</td>\n",
       "      <td>0.878899</td>\n",
       "      <td>488.837000</td>\n",
       "      <td>0.904748</td>\n",
       "      <td>2.464809</td>\n",
       "      <td>2.000000</td>\n",
       "    </tr>\n",
       "  </tbody>\n",
       "</table>\n",
       "</div>"
      ],
      "text/plain": [
       "               id       Daerah  SumbuUtama  SumbuKecil    Keunikan  \\\n",
       "count  500.000000   500.000000  500.000000  500.000000  500.000000   \n",
       "mean   250.500000  4801.246000  116.045171   53.715246    0.878764   \n",
       "std    144.481833   986.395491   18.282626    4.071075    0.036586   \n",
       "min      1.000000  2522.000000   74.133114   39.906517    0.719916   \n",
       "25%    125.750000  4042.750000  104.116098   51.193576    0.863676   \n",
       "50%    250.500000  4735.000000  115.405140   53.731199    0.890045   \n",
       "75%    375.250000  5495.500000  129.046792   56.325158    0.907578   \n",
       "max    500.000000  7453.000000  227.928583   68.977700    0.914001   \n",
       "\n",
       "       AreaBulatan    Diameter    KadarAir    Keliling     Bulatan  \\\n",
       "count   500.000000  500.000000  500.000000  500.000000  500.000000   \n",
       "mean   4937.048000   77.771158    0.648372  281.479722    0.761737   \n",
       "std    1011.696255    8.056867    0.094367   37.335402    0.061702   \n",
       "min    2579.000000   56.666658    0.409927  197.015000    0.174590   \n",
       "25%    4170.250000   71.745308    0.572632  255.883000    0.731991   \n",
       "50%    4857.000000   77.645277    0.626117  280.045500    0.761288   \n",
       "75%    5654.250000   83.648598    0.726633  306.062500    0.796361   \n",
       "max    7720.000000   97.413830    0.878899  488.837000    0.904748   \n",
       "\n",
       "           Ransum       Kelas  \n",
       "count  500.000000  500.000000  \n",
       "mean     2.150915    1.502000  \n",
       "std      0.249767    0.500497  \n",
       "min      1.440796    1.000000  \n",
       "25%      1.983939    1.000000  \n",
       "50%      2.193599    2.000000  \n",
       "75%      2.381612    2.000000  \n",
       "max      2.464809    2.000000  "
      ]
     },
     "execution_count": 3,
     "metadata": {},
     "output_type": "execute_result"
    }
   ],
   "source": [
    "dataset.describe()"
   ]
  },
  {
   "cell_type": "markdown",
   "metadata": {},
   "source": [
    "### Median"
   ]
  },
  {
   "cell_type": "code",
   "execution_count": 12,
   "metadata": {},
   "outputs": [
    {
     "data": {
      "text/plain": [
       "id              250.500000\n",
       "Daerah         4735.000000\n",
       "SumbuUtama      115.405140\n",
       "SumbuKecil       53.731199\n",
       "Keunikan          0.890045\n",
       "AreaBulatan    4857.000000\n",
       "Diameter         77.645277\n",
       "KadarAir          0.626117\n",
       "Keliling        280.045500\n",
       "Bulatan           0.761288\n",
       "Ransum            2.193599\n",
       "Kelas             2.000000\n",
       "dtype: float64"
      ]
     },
     "execution_count": 12,
     "metadata": {},
     "output_type": "execute_result"
    }
   ],
   "source": [
    "dataset.median()"
   ]
  },
  {
   "cell_type": "markdown",
   "metadata": {},
   "source": [
    "### Modus"
   ]
  },
  {
   "cell_type": "code",
   "execution_count": 13,
   "metadata": {
    "scrolled": true
   },
   "outputs": [
    {
     "data": {
      "text/html": [
       "<div>\n",
       "<style scoped>\n",
       "    .dataframe tbody tr th:only-of-type {\n",
       "        vertical-align: middle;\n",
       "    }\n",
       "\n",
       "    .dataframe tbody tr th {\n",
       "        vertical-align: top;\n",
       "    }\n",
       "\n",
       "    .dataframe thead th {\n",
       "        text-align: right;\n",
       "    }\n",
       "</style>\n",
       "<table border=\"1\" class=\"dataframe\">\n",
       "  <thead>\n",
       "    <tr style=\"text-align: right;\">\n",
       "      <th></th>\n",
       "      <th>id</th>\n",
       "      <th>Daerah</th>\n",
       "      <th>SumbuUtama</th>\n",
       "      <th>SumbuKecil</th>\n",
       "      <th>Keunikan</th>\n",
       "      <th>AreaBulatan</th>\n",
       "      <th>Diameter</th>\n",
       "      <th>KadarAir</th>\n",
       "      <th>Keliling</th>\n",
       "      <th>Bulatan</th>\n",
       "      <th>Ransum</th>\n",
       "      <th>Kelas</th>\n",
       "    </tr>\n",
       "  </thead>\n",
       "  <tbody>\n",
       "    <tr>\n",
       "      <th>0</th>\n",
       "      <td>1</td>\n",
       "      <td>3992.0</td>\n",
       "      <td>74.133114</td>\n",
       "      <td>39.906517</td>\n",
       "      <td>0.719916</td>\n",
       "      <td>3802.0</td>\n",
       "      <td>71.293564</td>\n",
       "      <td>0.735849</td>\n",
       "      <td>197.015</td>\n",
       "      <td>0.174590</td>\n",
       "      <td>1.440796</td>\n",
       "      <td>2.0</td>\n",
       "    </tr>\n",
       "    <tr>\n",
       "      <th>1</th>\n",
       "      <td>2</td>\n",
       "      <td>4881.0</td>\n",
       "      <td>74.364021</td>\n",
       "      <td>41.436419</td>\n",
       "      <td>0.725553</td>\n",
       "      <td>4913.0</td>\n",
       "      <td>78.833256</td>\n",
       "      <td>0.824405</td>\n",
       "      <td>200.587</td>\n",
       "      <td>0.261297</td>\n",
       "      <td>1.453137</td>\n",
       "      <td>NaN</td>\n",
       "    </tr>\n",
       "    <tr>\n",
       "      <th>2</th>\n",
       "      <td>3</td>\n",
       "      <td>5642.0</td>\n",
       "      <td>74.691881</td>\n",
       "      <td>42.871879</td>\n",
       "      <td>0.731211</td>\n",
       "      <td>NaN</td>\n",
       "      <td>84.756224</td>\n",
       "      <td>NaN</td>\n",
       "      <td>202.456</td>\n",
       "      <td>0.299298</td>\n",
       "      <td>1.465950</td>\n",
       "      <td>NaN</td>\n",
       "    </tr>\n",
       "    <tr>\n",
       "      <th>3</th>\n",
       "      <td>4</td>\n",
       "      <td>6083.0</td>\n",
       "      <td>76.293164</td>\n",
       "      <td>43.284979</td>\n",
       "      <td>0.738639</td>\n",
       "      <td>NaN</td>\n",
       "      <td>88.006342</td>\n",
       "      <td>NaN</td>\n",
       "      <td>207.325</td>\n",
       "      <td>0.589146</td>\n",
       "      <td>1.483456</td>\n",
       "      <td>NaN</td>\n",
       "    </tr>\n",
       "    <tr>\n",
       "      <th>4</th>\n",
       "      <td>5</td>\n",
       "      <td>NaN</td>\n",
       "      <td>76.789043</td>\n",
       "      <td>44.119355</td>\n",
       "      <td>0.749282</td>\n",
       "      <td>NaN</td>\n",
       "      <td>NaN</td>\n",
       "      <td>NaN</td>\n",
       "      <td>207.697</td>\n",
       "      <td>0.603807</td>\n",
       "      <td>1.510000</td>\n",
       "      <td>NaN</td>\n",
       "    </tr>\n",
       "    <tr>\n",
       "      <th>5</th>\n",
       "      <td>6</td>\n",
       "      <td>NaN</td>\n",
       "      <td>77.033628</td>\n",
       "      <td>44.123138</td>\n",
       "      <td>0.752861</td>\n",
       "      <td>NaN</td>\n",
       "      <td>NaN</td>\n",
       "      <td>NaN</td>\n",
       "      <td>208.317</td>\n",
       "      <td>0.618132</td>\n",
       "      <td>1.519342</td>\n",
       "      <td>NaN</td>\n",
       "    </tr>\n",
       "    <tr>\n",
       "      <th>6</th>\n",
       "      <td>7</td>\n",
       "      <td>NaN</td>\n",
       "      <td>77.047682</td>\n",
       "      <td>44.555234</td>\n",
       "      <td>0.753762</td>\n",
       "      <td>NaN</td>\n",
       "      <td>NaN</td>\n",
       "      <td>NaN</td>\n",
       "      <td>209.823</td>\n",
       "      <td>0.619331</td>\n",
       "      <td>1.521727</td>\n",
       "      <td>NaN</td>\n",
       "    </tr>\n",
       "    <tr>\n",
       "      <th>7</th>\n",
       "      <td>8</td>\n",
       "      <td>NaN</td>\n",
       "      <td>77.090790</td>\n",
       "      <td>44.631551</td>\n",
       "      <td>0.760664</td>\n",
       "      <td>NaN</td>\n",
       "      <td>NaN</td>\n",
       "      <td>NaN</td>\n",
       "      <td>210.012</td>\n",
       "      <td>0.622202</td>\n",
       "      <td>1.540487</td>\n",
       "      <td>NaN</td>\n",
       "    </tr>\n",
       "    <tr>\n",
       "      <th>8</th>\n",
       "      <td>9</td>\n",
       "      <td>NaN</td>\n",
       "      <td>77.417073</td>\n",
       "      <td>44.802734</td>\n",
       "      <td>0.761228</td>\n",
       "      <td>NaN</td>\n",
       "      <td>NaN</td>\n",
       "      <td>NaN</td>\n",
       "      <td>210.657</td>\n",
       "      <td>0.642940</td>\n",
       "      <td>1.542058</td>\n",
       "      <td>NaN</td>\n",
       "    </tr>\n",
       "    <tr>\n",
       "      <th>9</th>\n",
       "      <td>10</td>\n",
       "      <td>NaN</td>\n",
       "      <td>81.277552</td>\n",
       "      <td>44.810110</td>\n",
       "      <td>0.763053</td>\n",
       "      <td>NaN</td>\n",
       "      <td>NaN</td>\n",
       "      <td>NaN</td>\n",
       "      <td>211.667</td>\n",
       "      <td>0.655424</td>\n",
       "      <td>1.547183</td>\n",
       "      <td>NaN</td>\n",
       "    </tr>\n",
       "    <tr>\n",
       "      <th>10</th>\n",
       "      <td>11</td>\n",
       "      <td>NaN</td>\n",
       "      <td>81.304200</td>\n",
       "      <td>44.875199</td>\n",
       "      <td>0.763178</td>\n",
       "      <td>NaN</td>\n",
       "      <td>NaN</td>\n",
       "      <td>NaN</td>\n",
       "      <td>214.338</td>\n",
       "      <td>0.661849</td>\n",
       "      <td>1.547536</td>\n",
       "      <td>NaN</td>\n",
       "    </tr>\n",
       "    <tr>\n",
       "      <th>11</th>\n",
       "      <td>12</td>\n",
       "      <td>NaN</td>\n",
       "      <td>82.570141</td>\n",
       "      <td>44.940785</td>\n",
       "      <td>0.764080</td>\n",
       "      <td>NaN</td>\n",
       "      <td>NaN</td>\n",
       "      <td>NaN</td>\n",
       "      <td>214.440</td>\n",
       "      <td>0.671240</td>\n",
       "      <td>1.550094</td>\n",
       "      <td>NaN</td>\n",
       "    </tr>\n",
       "    <tr>\n",
       "      <th>12</th>\n",
       "      <td>13</td>\n",
       "      <td>NaN</td>\n",
       "      <td>82.877814</td>\n",
       "      <td>45.241139</td>\n",
       "      <td>0.769107</td>\n",
       "      <td>NaN</td>\n",
       "      <td>NaN</td>\n",
       "      <td>NaN</td>\n",
       "      <td>216.930</td>\n",
       "      <td>0.671415</td>\n",
       "      <td>1.564653</td>\n",
       "      <td>NaN</td>\n",
       "    </tr>\n",
       "    <tr>\n",
       "      <th>13</th>\n",
       "      <td>14</td>\n",
       "      <td>NaN</td>\n",
       "      <td>83.378487</td>\n",
       "      <td>45.261657</td>\n",
       "      <td>0.774286</td>\n",
       "      <td>NaN</td>\n",
       "      <td>NaN</td>\n",
       "      <td>NaN</td>\n",
       "      <td>218.773</td>\n",
       "      <td>0.671775</td>\n",
       "      <td>1.580190</td>\n",
       "      <td>NaN</td>\n",
       "    </tr>\n",
       "    <tr>\n",
       "      <th>14</th>\n",
       "      <td>15</td>\n",
       "      <td>NaN</td>\n",
       "      <td>83.823270</td>\n",
       "      <td>45.374247</td>\n",
       "      <td>0.776372</td>\n",
       "      <td>NaN</td>\n",
       "      <td>NaN</td>\n",
       "      <td>NaN</td>\n",
       "      <td>219.663</td>\n",
       "      <td>0.672018</td>\n",
       "      <td>1.586608</td>\n",
       "      <td>NaN</td>\n",
       "    </tr>\n",
       "    <tr>\n",
       "      <th>15</th>\n",
       "      <td>16</td>\n",
       "      <td>NaN</td>\n",
       "      <td>84.058480</td>\n",
       "      <td>45.529112</td>\n",
       "      <td>0.776647</td>\n",
       "      <td>NaN</td>\n",
       "      <td>NaN</td>\n",
       "      <td>NaN</td>\n",
       "      <td>221.295</td>\n",
       "      <td>0.673292</td>\n",
       "      <td>1.587462</td>\n",
       "      <td>NaN</td>\n",
       "    </tr>\n",
       "    <tr>\n",
       "      <th>16</th>\n",
       "      <td>17</td>\n",
       "      <td>NaN</td>\n",
       "      <td>84.323564</td>\n",
       "      <td>45.783989</td>\n",
       "      <td>0.777504</td>\n",
       "      <td>NaN</td>\n",
       "      <td>NaN</td>\n",
       "      <td>NaN</td>\n",
       "      <td>221.380</td>\n",
       "      <td>0.675019</td>\n",
       "      <td>1.590134</td>\n",
       "      <td>NaN</td>\n",
       "    </tr>\n",
       "    <tr>\n",
       "      <th>17</th>\n",
       "      <td>18</td>\n",
       "      <td>NaN</td>\n",
       "      <td>84.540785</td>\n",
       "      <td>45.882867</td>\n",
       "      <td>0.786436</td>\n",
       "      <td>NaN</td>\n",
       "      <td>NaN</td>\n",
       "      <td>NaN</td>\n",
       "      <td>222.373</td>\n",
       "      <td>0.676293</td>\n",
       "      <td>1.618982</td>\n",
       "      <td>NaN</td>\n",
       "    </tr>\n",
       "    <tr>\n",
       "      <th>18</th>\n",
       "      <td>19</td>\n",
       "      <td>NaN</td>\n",
       "      <td>84.581148</td>\n",
       "      <td>45.897752</td>\n",
       "      <td>0.796277</td>\n",
       "      <td>NaN</td>\n",
       "      <td>NaN</td>\n",
       "      <td>NaN</td>\n",
       "      <td>223.117</td>\n",
       "      <td>0.677200</td>\n",
       "      <td>1.653079</td>\n",
       "      <td>NaN</td>\n",
       "    </tr>\n",
       "    <tr>\n",
       "      <th>19</th>\n",
       "      <td>20</td>\n",
       "      <td>NaN</td>\n",
       "      <td>85.124785</td>\n",
       "      <td>46.012820</td>\n",
       "      <td>0.796930</td>\n",
       "      <td>NaN</td>\n",
       "      <td>NaN</td>\n",
       "      <td>NaN</td>\n",
       "      <td>224.485</td>\n",
       "      <td>0.679893</td>\n",
       "      <td>1.655433</td>\n",
       "      <td>NaN</td>\n",
       "    </tr>\n",
       "    <tr>\n",
       "      <th>20</th>\n",
       "      <td>21</td>\n",
       "      <td>NaN</td>\n",
       "      <td>86.567816</td>\n",
       "      <td>46.050367</td>\n",
       "      <td>0.800390</td>\n",
       "      <td>NaN</td>\n",
       "      <td>NaN</td>\n",
       "      <td>NaN</td>\n",
       "      <td>225.237</td>\n",
       "      <td>0.680195</td>\n",
       "      <td>1.668113</td>\n",
       "      <td>NaN</td>\n",
       "    </tr>\n",
       "    <tr>\n",
       "      <th>21</th>\n",
       "      <td>22</td>\n",
       "      <td>NaN</td>\n",
       "      <td>86.952411</td>\n",
       "      <td>46.238929</td>\n",
       "      <td>0.802400</td>\n",
       "      <td>NaN</td>\n",
       "      <td>NaN</td>\n",
       "      <td>NaN</td>\n",
       "      <td>226.049</td>\n",
       "      <td>0.685223</td>\n",
       "      <td>1.675639</td>\n",
       "      <td>NaN</td>\n",
       "    </tr>\n",
       "    <tr>\n",
       "      <th>22</th>\n",
       "      <td>23</td>\n",
       "      <td>NaN</td>\n",
       "      <td>87.384504</td>\n",
       "      <td>46.811578</td>\n",
       "      <td>0.803560</td>\n",
       "      <td>NaN</td>\n",
       "      <td>NaN</td>\n",
       "      <td>NaN</td>\n",
       "      <td>226.454</td>\n",
       "      <td>0.685881</td>\n",
       "      <td>1.680039</td>\n",
       "      <td>NaN</td>\n",
       "    </tr>\n",
       "    <tr>\n",
       "      <th>23</th>\n",
       "      <td>24</td>\n",
       "      <td>NaN</td>\n",
       "      <td>87.412863</td>\n",
       "      <td>46.837917</td>\n",
       "      <td>0.804432</td>\n",
       "      <td>NaN</td>\n",
       "      <td>NaN</td>\n",
       "      <td>NaN</td>\n",
       "      <td>226.793</td>\n",
       "      <td>0.687464</td>\n",
       "      <td>1.683374</td>\n",
       "      <td>NaN</td>\n",
       "    </tr>\n",
       "    <tr>\n",
       "      <th>24</th>\n",
       "      <td>25</td>\n",
       "      <td>NaN</td>\n",
       "      <td>87.978305</td>\n",
       "      <td>46.943265</td>\n",
       "      <td>0.805268</td>\n",
       "      <td>NaN</td>\n",
       "      <td>NaN</td>\n",
       "      <td>NaN</td>\n",
       "      <td>227.007</td>\n",
       "      <td>0.688160</td>\n",
       "      <td>1.686592</td>\n",
       "      <td>NaN</td>\n",
       "    </tr>\n",
       "    <tr>\n",
       "      <th>25</th>\n",
       "      <td>26</td>\n",
       "      <td>NaN</td>\n",
       "      <td>87.986656</td>\n",
       "      <td>46.992019</td>\n",
       "      <td>0.805682</td>\n",
       "      <td>NaN</td>\n",
       "      <td>NaN</td>\n",
       "      <td>NaN</td>\n",
       "      <td>227.562</td>\n",
       "      <td>0.688452</td>\n",
       "      <td>1.688196</td>\n",
       "      <td>NaN</td>\n",
       "    </tr>\n",
       "    <tr>\n",
       "      <th>26</th>\n",
       "      <td>27</td>\n",
       "      <td>NaN</td>\n",
       "      <td>88.001794</td>\n",
       "      <td>47.025904</td>\n",
       "      <td>0.807996</td>\n",
       "      <td>NaN</td>\n",
       "      <td>NaN</td>\n",
       "      <td>NaN</td>\n",
       "      <td>227.853</td>\n",
       "      <td>0.691150</td>\n",
       "      <td>1.697251</td>\n",
       "      <td>NaN</td>\n",
       "    </tr>\n",
       "    <tr>\n",
       "      <th>27</th>\n",
       "      <td>28</td>\n",
       "      <td>NaN</td>\n",
       "      <td>88.029378</td>\n",
       "      <td>47.125335</td>\n",
       "      <td>0.808495</td>\n",
       "      <td>NaN</td>\n",
       "      <td>NaN</td>\n",
       "      <td>NaN</td>\n",
       "      <td>227.906</td>\n",
       "      <td>0.694162</td>\n",
       "      <td>1.699226</td>\n",
       "      <td>NaN</td>\n",
       "    </tr>\n",
       "    <tr>\n",
       "      <th>28</th>\n",
       "      <td>29</td>\n",
       "      <td>NaN</td>\n",
       "      <td>88.115939</td>\n",
       "      <td>47.133155</td>\n",
       "      <td>0.808852</td>\n",
       "      <td>NaN</td>\n",
       "      <td>NaN</td>\n",
       "      <td>NaN</td>\n",
       "      <td>227.934</td>\n",
       "      <td>0.694463</td>\n",
       "      <td>1.700644</td>\n",
       "      <td>NaN</td>\n",
       "    </tr>\n",
       "    <tr>\n",
       "      <th>29</th>\n",
       "      <td>30</td>\n",
       "      <td>NaN</td>\n",
       "      <td>88.779904</td>\n",
       "      <td>47.139683</td>\n",
       "      <td>0.810433</td>\n",
       "      <td>NaN</td>\n",
       "      <td>NaN</td>\n",
       "      <td>NaN</td>\n",
       "      <td>228.007</td>\n",
       "      <td>0.695464</td>\n",
       "      <td>1.706977</td>\n",
       "      <td>NaN</td>\n",
       "    </tr>\n",
       "    <tr>\n",
       "      <th>...</th>\n",
       "      <td>...</td>\n",
       "      <td>...</td>\n",
       "      <td>...</td>\n",
       "      <td>...</td>\n",
       "      <td>...</td>\n",
       "      <td>...</td>\n",
       "      <td>...</td>\n",
       "      <td>...</td>\n",
       "      <td>...</td>\n",
       "      <td>...</td>\n",
       "      <td>...</td>\n",
       "      <td>...</td>\n",
       "    </tr>\n",
       "    <tr>\n",
       "      <th>470</th>\n",
       "      <td>471</td>\n",
       "      <td>NaN</td>\n",
       "      <td>141.412475</td>\n",
       "      <td>60.156956</td>\n",
       "      <td>0.912568</td>\n",
       "      <td>NaN</td>\n",
       "      <td>NaN</td>\n",
       "      <td>NaN</td>\n",
       "      <td>339.413</td>\n",
       "      <td>0.841529</td>\n",
       "      <td>2.445437</td>\n",
       "      <td>NaN</td>\n",
       "    </tr>\n",
       "    <tr>\n",
       "      <th>471</th>\n",
       "      <td>472</td>\n",
       "      <td>NaN</td>\n",
       "      <td>141.773018</td>\n",
       "      <td>60.178119</td>\n",
       "      <td>0.912605</td>\n",
       "      <td>NaN</td>\n",
       "      <td>NaN</td>\n",
       "      <td>NaN</td>\n",
       "      <td>340.020</td>\n",
       "      <td>0.842805</td>\n",
       "      <td>2.445935</td>\n",
       "      <td>NaN</td>\n",
       "    </tr>\n",
       "    <tr>\n",
       "      <th>472</th>\n",
       "      <td>473</td>\n",
       "      <td>NaN</td>\n",
       "      <td>142.080654</td>\n",
       "      <td>60.261765</td>\n",
       "      <td>0.912720</td>\n",
       "      <td>NaN</td>\n",
       "      <td>NaN</td>\n",
       "      <td>NaN</td>\n",
       "      <td>340.600</td>\n",
       "      <td>0.843048</td>\n",
       "      <td>2.447469</td>\n",
       "      <td>NaN</td>\n",
       "    </tr>\n",
       "    <tr>\n",
       "      <th>473</th>\n",
       "      <td>474</td>\n",
       "      <td>NaN</td>\n",
       "      <td>142.347250</td>\n",
       "      <td>60.416315</td>\n",
       "      <td>0.912839</td>\n",
       "      <td>NaN</td>\n",
       "      <td>NaN</td>\n",
       "      <td>NaN</td>\n",
       "      <td>340.726</td>\n",
       "      <td>0.843860</td>\n",
       "      <td>2.449064</td>\n",
       "      <td>NaN</td>\n",
       "    </tr>\n",
       "    <tr>\n",
       "      <th>474</th>\n",
       "      <td>475</td>\n",
       "      <td>NaN</td>\n",
       "      <td>142.380796</td>\n",
       "      <td>60.632241</td>\n",
       "      <td>0.912851</td>\n",
       "      <td>NaN</td>\n",
       "      <td>NaN</td>\n",
       "      <td>NaN</td>\n",
       "      <td>341.702</td>\n",
       "      <td>0.844453</td>\n",
       "      <td>2.449220</td>\n",
       "      <td>NaN</td>\n",
       "    </tr>\n",
       "    <tr>\n",
       "      <th>475</th>\n",
       "      <td>476</td>\n",
       "      <td>NaN</td>\n",
       "      <td>142.402787</td>\n",
       "      <td>60.713944</td>\n",
       "      <td>0.912876</td>\n",
       "      <td>NaN</td>\n",
       "      <td>NaN</td>\n",
       "      <td>NaN</td>\n",
       "      <td>342.257</td>\n",
       "      <td>0.845113</td>\n",
       "      <td>2.449553</td>\n",
       "      <td>NaN</td>\n",
       "    </tr>\n",
       "    <tr>\n",
       "      <th>476</th>\n",
       "      <td>477</td>\n",
       "      <td>NaN</td>\n",
       "      <td>142.533566</td>\n",
       "      <td>60.753330</td>\n",
       "      <td>0.912877</td>\n",
       "      <td>NaN</td>\n",
       "      <td>NaN</td>\n",
       "      <td>NaN</td>\n",
       "      <td>342.990</td>\n",
       "      <td>0.846095</td>\n",
       "      <td>2.449574</td>\n",
       "      <td>NaN</td>\n",
       "    </tr>\n",
       "    <tr>\n",
       "      <th>477</th>\n",
       "      <td>478</td>\n",
       "      <td>NaN</td>\n",
       "      <td>142.949501</td>\n",
       "      <td>60.776901</td>\n",
       "      <td>0.912921</td>\n",
       "      <td>NaN</td>\n",
       "      <td>NaN</td>\n",
       "      <td>NaN</td>\n",
       "      <td>343.706</td>\n",
       "      <td>0.846535</td>\n",
       "      <td>2.450156</td>\n",
       "      <td>NaN</td>\n",
       "    </tr>\n",
       "    <tr>\n",
       "      <th>478</th>\n",
       "      <td>479</td>\n",
       "      <td>NaN</td>\n",
       "      <td>143.912498</td>\n",
       "      <td>60.842333</td>\n",
       "      <td>0.912936</td>\n",
       "      <td>NaN</td>\n",
       "      <td>NaN</td>\n",
       "      <td>NaN</td>\n",
       "      <td>343.917</td>\n",
       "      <td>0.847519</td>\n",
       "      <td>2.450370</td>\n",
       "      <td>NaN</td>\n",
       "    </tr>\n",
       "    <tr>\n",
       "      <th>479</th>\n",
       "      <td>480</td>\n",
       "      <td>NaN</td>\n",
       "      <td>144.267473</td>\n",
       "      <td>60.865929</td>\n",
       "      <td>0.913017</td>\n",
       "      <td>NaN</td>\n",
       "      <td>NaN</td>\n",
       "      <td>NaN</td>\n",
       "      <td>344.138</td>\n",
       "      <td>0.847593</td>\n",
       "      <td>2.451453</td>\n",
       "      <td>NaN</td>\n",
       "    </tr>\n",
       "    <tr>\n",
       "      <th>480</th>\n",
       "      <td>481</td>\n",
       "      <td>NaN</td>\n",
       "      <td>144.358774</td>\n",
       "      <td>61.180621</td>\n",
       "      <td>0.913044</td>\n",
       "      <td>NaN</td>\n",
       "      <td>NaN</td>\n",
       "      <td>NaN</td>\n",
       "      <td>346.308</td>\n",
       "      <td>0.848319</td>\n",
       "      <td>2.451816</td>\n",
       "      <td>NaN</td>\n",
       "    </tr>\n",
       "    <tr>\n",
       "      <th>481</th>\n",
       "      <td>482</td>\n",
       "      <td>NaN</td>\n",
       "      <td>144.433114</td>\n",
       "      <td>61.252729</td>\n",
       "      <td>0.913111</td>\n",
       "      <td>NaN</td>\n",
       "      <td>NaN</td>\n",
       "      <td>NaN</td>\n",
       "      <td>346.714</td>\n",
       "      <td>0.849297</td>\n",
       "      <td>2.452717</td>\n",
       "      <td>NaN</td>\n",
       "    </tr>\n",
       "    <tr>\n",
       "      <th>482</th>\n",
       "      <td>483</td>\n",
       "      <td>NaN</td>\n",
       "      <td>144.448739</td>\n",
       "      <td>61.312148</td>\n",
       "      <td>0.913153</td>\n",
       "      <td>NaN</td>\n",
       "      <td>NaN</td>\n",
       "      <td>NaN</td>\n",
       "      <td>347.364</td>\n",
       "      <td>0.849891</td>\n",
       "      <td>2.453278</td>\n",
       "      <td>NaN</td>\n",
       "    </tr>\n",
       "    <tr>\n",
       "      <th>483</th>\n",
       "      <td>484</td>\n",
       "      <td>NaN</td>\n",
       "      <td>144.907334</td>\n",
       "      <td>61.565377</td>\n",
       "      <td>0.913154</td>\n",
       "      <td>NaN</td>\n",
       "      <td>NaN</td>\n",
       "      <td>NaN</td>\n",
       "      <td>348.085</td>\n",
       "      <td>0.850159</td>\n",
       "      <td>2.453301</td>\n",
       "      <td>NaN</td>\n",
       "    </tr>\n",
       "    <tr>\n",
       "      <th>484</th>\n",
       "      <td>485</td>\n",
       "      <td>NaN</td>\n",
       "      <td>146.177056</td>\n",
       "      <td>61.674040</td>\n",
       "      <td>0.913189</td>\n",
       "      <td>NaN</td>\n",
       "      <td>NaN</td>\n",
       "      <td>NaN</td>\n",
       "      <td>348.740</td>\n",
       "      <td>0.850306</td>\n",
       "      <td>2.453769</td>\n",
       "      <td>NaN</td>\n",
       "    </tr>\n",
       "    <tr>\n",
       "      <th>485</th>\n",
       "      <td>486</td>\n",
       "      <td>NaN</td>\n",
       "      <td>146.371785</td>\n",
       "      <td>61.753627</td>\n",
       "      <td>0.913223</td>\n",
       "      <td>NaN</td>\n",
       "      <td>NaN</td>\n",
       "      <td>NaN</td>\n",
       "      <td>352.718</td>\n",
       "      <td>0.850763</td>\n",
       "      <td>2.454228</td>\n",
       "      <td>NaN</td>\n",
       "    </tr>\n",
       "    <tr>\n",
       "      <th>486</th>\n",
       "      <td>487</td>\n",
       "      <td>NaN</td>\n",
       "      <td>146.590229</td>\n",
       "      <td>61.932663</td>\n",
       "      <td>0.913309</td>\n",
       "      <td>NaN</td>\n",
       "      <td>NaN</td>\n",
       "      <td>NaN</td>\n",
       "      <td>353.032</td>\n",
       "      <td>0.856198</td>\n",
       "      <td>2.455384</td>\n",
       "      <td>NaN</td>\n",
       "    </tr>\n",
       "    <tr>\n",
       "      <th>487</th>\n",
       "      <td>488</td>\n",
       "      <td>NaN</td>\n",
       "      <td>146.696300</td>\n",
       "      <td>62.175346</td>\n",
       "      <td>0.913399</td>\n",
       "      <td>NaN</td>\n",
       "      <td>NaN</td>\n",
       "      <td>NaN</td>\n",
       "      <td>353.285</td>\n",
       "      <td>0.858473</td>\n",
       "      <td>2.456609</td>\n",
       "      <td>NaN</td>\n",
       "    </tr>\n",
       "    <tr>\n",
       "      <th>488</th>\n",
       "      <td>489</td>\n",
       "      <td>NaN</td>\n",
       "      <td>146.729018</td>\n",
       "      <td>62.214983</td>\n",
       "      <td>0.913453</td>\n",
       "      <td>NaN</td>\n",
       "      <td>NaN</td>\n",
       "      <td>NaN</td>\n",
       "      <td>354.483</td>\n",
       "      <td>0.863234</td>\n",
       "      <td>2.457340</td>\n",
       "      <td>NaN</td>\n",
       "    </tr>\n",
       "    <tr>\n",
       "      <th>489</th>\n",
       "      <td>490</td>\n",
       "      <td>NaN</td>\n",
       "      <td>147.005775</td>\n",
       "      <td>62.268120</td>\n",
       "      <td>0.913477</td>\n",
       "      <td>NaN</td>\n",
       "      <td>NaN</td>\n",
       "      <td>NaN</td>\n",
       "      <td>357.414</td>\n",
       "      <td>0.864092</td>\n",
       "      <td>2.457670</td>\n",
       "      <td>NaN</td>\n",
       "    </tr>\n",
       "    <tr>\n",
       "      <th>490</th>\n",
       "      <td>491</td>\n",
       "      <td>NaN</td>\n",
       "      <td>147.138743</td>\n",
       "      <td>62.304970</td>\n",
       "      <td>0.913550</td>\n",
       "      <td>NaN</td>\n",
       "      <td>NaN</td>\n",
       "      <td>NaN</td>\n",
       "      <td>359.911</td>\n",
       "      <td>0.867148</td>\n",
       "      <td>2.458657</td>\n",
       "      <td>NaN</td>\n",
       "    </tr>\n",
       "    <tr>\n",
       "      <th>491</th>\n",
       "      <td>492</td>\n",
       "      <td>NaN</td>\n",
       "      <td>147.429313</td>\n",
       "      <td>62.349249</td>\n",
       "      <td>0.913607</td>\n",
       "      <td>NaN</td>\n",
       "      <td>NaN</td>\n",
       "      <td>NaN</td>\n",
       "      <td>362.021</td>\n",
       "      <td>0.868434</td>\n",
       "      <td>2.459428</td>\n",
       "      <td>NaN</td>\n",
       "    </tr>\n",
       "    <tr>\n",
       "      <th>492</th>\n",
       "      <td>493</td>\n",
       "      <td>NaN</td>\n",
       "      <td>147.890545</td>\n",
       "      <td>62.466066</td>\n",
       "      <td>0.913672</td>\n",
       "      <td>NaN</td>\n",
       "      <td>NaN</td>\n",
       "      <td>NaN</td>\n",
       "      <td>365.062</td>\n",
       "      <td>0.868444</td>\n",
       "      <td>2.460308</td>\n",
       "      <td>NaN</td>\n",
       "    </tr>\n",
       "    <tr>\n",
       "      <th>493</th>\n",
       "      <td>494</td>\n",
       "      <td>NaN</td>\n",
       "      <td>150.429964</td>\n",
       "      <td>62.949892</td>\n",
       "      <td>0.913681</td>\n",
       "      <td>NaN</td>\n",
       "      <td>NaN</td>\n",
       "      <td>NaN</td>\n",
       "      <td>366.620</td>\n",
       "      <td>0.870203</td>\n",
       "      <td>2.460432</td>\n",
       "      <td>NaN</td>\n",
       "    </tr>\n",
       "    <tr>\n",
       "      <th>494</th>\n",
       "      <td>495</td>\n",
       "      <td>NaN</td>\n",
       "      <td>151.601766</td>\n",
       "      <td>62.961830</td>\n",
       "      <td>0.913713</td>\n",
       "      <td>NaN</td>\n",
       "      <td>NaN</td>\n",
       "      <td>NaN</td>\n",
       "      <td>367.844</td>\n",
       "      <td>0.870746</td>\n",
       "      <td>2.460875</td>\n",
       "      <td>NaN</td>\n",
       "    </tr>\n",
       "    <tr>\n",
       "      <th>495</th>\n",
       "      <td>496</td>\n",
       "      <td>NaN</td>\n",
       "      <td>152.068440</td>\n",
       "      <td>63.322854</td>\n",
       "      <td>0.913724</td>\n",
       "      <td>NaN</td>\n",
       "      <td>NaN</td>\n",
       "      <td>NaN</td>\n",
       "      <td>375.651</td>\n",
       "      <td>0.872417</td>\n",
       "      <td>2.461017</td>\n",
       "      <td>NaN</td>\n",
       "    </tr>\n",
       "    <tr>\n",
       "      <th>496</th>\n",
       "      <td>497</td>\n",
       "      <td>NaN</td>\n",
       "      <td>152.113491</td>\n",
       "      <td>63.762307</td>\n",
       "      <td>0.913760</td>\n",
       "      <td>NaN</td>\n",
       "      <td>NaN</td>\n",
       "      <td>NaN</td>\n",
       "      <td>390.125</td>\n",
       "      <td>0.874243</td>\n",
       "      <td>2.461510</td>\n",
       "      <td>NaN</td>\n",
       "    </tr>\n",
       "    <tr>\n",
       "      <th>497</th>\n",
       "      <td>498</td>\n",
       "      <td>NaN</td>\n",
       "      <td>153.583387</td>\n",
       "      <td>64.012769</td>\n",
       "      <td>0.913891</td>\n",
       "      <td>NaN</td>\n",
       "      <td>NaN</td>\n",
       "      <td>NaN</td>\n",
       "      <td>434.235</td>\n",
       "      <td>0.874743</td>\n",
       "      <td>2.463297</td>\n",
       "      <td>NaN</td>\n",
       "    </tr>\n",
       "    <tr>\n",
       "      <th>498</th>\n",
       "      <td>499</td>\n",
       "      <td>NaN</td>\n",
       "      <td>227.105462</td>\n",
       "      <td>65.738475</td>\n",
       "      <td>0.913909</td>\n",
       "      <td>NaN</td>\n",
       "      <td>NaN</td>\n",
       "      <td>NaN</td>\n",
       "      <td>448.305</td>\n",
       "      <td>0.891706</td>\n",
       "      <td>2.463546</td>\n",
       "      <td>NaN</td>\n",
       "    </tr>\n",
       "    <tr>\n",
       "      <th>499</th>\n",
       "      <td>500</td>\n",
       "      <td>NaN</td>\n",
       "      <td>227.928583</td>\n",
       "      <td>68.977700</td>\n",
       "      <td>0.914001</td>\n",
       "      <td>NaN</td>\n",
       "      <td>NaN</td>\n",
       "      <td>NaN</td>\n",
       "      <td>488.837</td>\n",
       "      <td>0.904748</td>\n",
       "      <td>2.464809</td>\n",
       "      <td>NaN</td>\n",
       "    </tr>\n",
       "  </tbody>\n",
       "</table>\n",
       "<p>500 rows × 12 columns</p>\n",
       "</div>"
      ],
      "text/plain": [
       "      id  Daerah  SumbuUtama  SumbuKecil  Keunikan  AreaBulatan   Diameter  \\\n",
       "0      1  3992.0   74.133114   39.906517  0.719916       3802.0  71.293564   \n",
       "1      2  4881.0   74.364021   41.436419  0.725553       4913.0  78.833256   \n",
       "2      3  5642.0   74.691881   42.871879  0.731211          NaN  84.756224   \n",
       "3      4  6083.0   76.293164   43.284979  0.738639          NaN  88.006342   \n",
       "4      5     NaN   76.789043   44.119355  0.749282          NaN        NaN   \n",
       "5      6     NaN   77.033628   44.123138  0.752861          NaN        NaN   \n",
       "6      7     NaN   77.047682   44.555234  0.753762          NaN        NaN   \n",
       "7      8     NaN   77.090790   44.631551  0.760664          NaN        NaN   \n",
       "8      9     NaN   77.417073   44.802734  0.761228          NaN        NaN   \n",
       "9     10     NaN   81.277552   44.810110  0.763053          NaN        NaN   \n",
       "10    11     NaN   81.304200   44.875199  0.763178          NaN        NaN   \n",
       "11    12     NaN   82.570141   44.940785  0.764080          NaN        NaN   \n",
       "12    13     NaN   82.877814   45.241139  0.769107          NaN        NaN   \n",
       "13    14     NaN   83.378487   45.261657  0.774286          NaN        NaN   \n",
       "14    15     NaN   83.823270   45.374247  0.776372          NaN        NaN   \n",
       "15    16     NaN   84.058480   45.529112  0.776647          NaN        NaN   \n",
       "16    17     NaN   84.323564   45.783989  0.777504          NaN        NaN   \n",
       "17    18     NaN   84.540785   45.882867  0.786436          NaN        NaN   \n",
       "18    19     NaN   84.581148   45.897752  0.796277          NaN        NaN   \n",
       "19    20     NaN   85.124785   46.012820  0.796930          NaN        NaN   \n",
       "20    21     NaN   86.567816   46.050367  0.800390          NaN        NaN   \n",
       "21    22     NaN   86.952411   46.238929  0.802400          NaN        NaN   \n",
       "22    23     NaN   87.384504   46.811578  0.803560          NaN        NaN   \n",
       "23    24     NaN   87.412863   46.837917  0.804432          NaN        NaN   \n",
       "24    25     NaN   87.978305   46.943265  0.805268          NaN        NaN   \n",
       "25    26     NaN   87.986656   46.992019  0.805682          NaN        NaN   \n",
       "26    27     NaN   88.001794   47.025904  0.807996          NaN        NaN   \n",
       "27    28     NaN   88.029378   47.125335  0.808495          NaN        NaN   \n",
       "28    29     NaN   88.115939   47.133155  0.808852          NaN        NaN   \n",
       "29    30     NaN   88.779904   47.139683  0.810433          NaN        NaN   \n",
       "..   ...     ...         ...         ...       ...          ...        ...   \n",
       "470  471     NaN  141.412475   60.156956  0.912568          NaN        NaN   \n",
       "471  472     NaN  141.773018   60.178119  0.912605          NaN        NaN   \n",
       "472  473     NaN  142.080654   60.261765  0.912720          NaN        NaN   \n",
       "473  474     NaN  142.347250   60.416315  0.912839          NaN        NaN   \n",
       "474  475     NaN  142.380796   60.632241  0.912851          NaN        NaN   \n",
       "475  476     NaN  142.402787   60.713944  0.912876          NaN        NaN   \n",
       "476  477     NaN  142.533566   60.753330  0.912877          NaN        NaN   \n",
       "477  478     NaN  142.949501   60.776901  0.912921          NaN        NaN   \n",
       "478  479     NaN  143.912498   60.842333  0.912936          NaN        NaN   \n",
       "479  480     NaN  144.267473   60.865929  0.913017          NaN        NaN   \n",
       "480  481     NaN  144.358774   61.180621  0.913044          NaN        NaN   \n",
       "481  482     NaN  144.433114   61.252729  0.913111          NaN        NaN   \n",
       "482  483     NaN  144.448739   61.312148  0.913153          NaN        NaN   \n",
       "483  484     NaN  144.907334   61.565377  0.913154          NaN        NaN   \n",
       "484  485     NaN  146.177056   61.674040  0.913189          NaN        NaN   \n",
       "485  486     NaN  146.371785   61.753627  0.913223          NaN        NaN   \n",
       "486  487     NaN  146.590229   61.932663  0.913309          NaN        NaN   \n",
       "487  488     NaN  146.696300   62.175346  0.913399          NaN        NaN   \n",
       "488  489     NaN  146.729018   62.214983  0.913453          NaN        NaN   \n",
       "489  490     NaN  147.005775   62.268120  0.913477          NaN        NaN   \n",
       "490  491     NaN  147.138743   62.304970  0.913550          NaN        NaN   \n",
       "491  492     NaN  147.429313   62.349249  0.913607          NaN        NaN   \n",
       "492  493     NaN  147.890545   62.466066  0.913672          NaN        NaN   \n",
       "493  494     NaN  150.429964   62.949892  0.913681          NaN        NaN   \n",
       "494  495     NaN  151.601766   62.961830  0.913713          NaN        NaN   \n",
       "495  496     NaN  152.068440   63.322854  0.913724          NaN        NaN   \n",
       "496  497     NaN  152.113491   63.762307  0.913760          NaN        NaN   \n",
       "497  498     NaN  153.583387   64.012769  0.913891          NaN        NaN   \n",
       "498  499     NaN  227.105462   65.738475  0.913909          NaN        NaN   \n",
       "499  500     NaN  227.928583   68.977700  0.914001          NaN        NaN   \n",
       "\n",
       "     KadarAir  Keliling   Bulatan    Ransum  Kelas  \n",
       "0    0.735849   197.015  0.174590  1.440796    2.0  \n",
       "1    0.824405   200.587  0.261297  1.453137    NaN  \n",
       "2         NaN   202.456  0.299298  1.465950    NaN  \n",
       "3         NaN   207.325  0.589146  1.483456    NaN  \n",
       "4         NaN   207.697  0.603807  1.510000    NaN  \n",
       "5         NaN   208.317  0.618132  1.519342    NaN  \n",
       "6         NaN   209.823  0.619331  1.521727    NaN  \n",
       "7         NaN   210.012  0.622202  1.540487    NaN  \n",
       "8         NaN   210.657  0.642940  1.542058    NaN  \n",
       "9         NaN   211.667  0.655424  1.547183    NaN  \n",
       "10        NaN   214.338  0.661849  1.547536    NaN  \n",
       "11        NaN   214.440  0.671240  1.550094    NaN  \n",
       "12        NaN   216.930  0.671415  1.564653    NaN  \n",
       "13        NaN   218.773  0.671775  1.580190    NaN  \n",
       "14        NaN   219.663  0.672018  1.586608    NaN  \n",
       "15        NaN   221.295  0.673292  1.587462    NaN  \n",
       "16        NaN   221.380  0.675019  1.590134    NaN  \n",
       "17        NaN   222.373  0.676293  1.618982    NaN  \n",
       "18        NaN   223.117  0.677200  1.653079    NaN  \n",
       "19        NaN   224.485  0.679893  1.655433    NaN  \n",
       "20        NaN   225.237  0.680195  1.668113    NaN  \n",
       "21        NaN   226.049  0.685223  1.675639    NaN  \n",
       "22        NaN   226.454  0.685881  1.680039    NaN  \n",
       "23        NaN   226.793  0.687464  1.683374    NaN  \n",
       "24        NaN   227.007  0.688160  1.686592    NaN  \n",
       "25        NaN   227.562  0.688452  1.688196    NaN  \n",
       "26        NaN   227.853  0.691150  1.697251    NaN  \n",
       "27        NaN   227.906  0.694162  1.699226    NaN  \n",
       "28        NaN   227.934  0.694463  1.700644    NaN  \n",
       "29        NaN   228.007  0.695464  1.706977    NaN  \n",
       "..        ...       ...       ...       ...    ...  \n",
       "470       NaN   339.413  0.841529  2.445437    NaN  \n",
       "471       NaN   340.020  0.842805  2.445935    NaN  \n",
       "472       NaN   340.600  0.843048  2.447469    NaN  \n",
       "473       NaN   340.726  0.843860  2.449064    NaN  \n",
       "474       NaN   341.702  0.844453  2.449220    NaN  \n",
       "475       NaN   342.257  0.845113  2.449553    NaN  \n",
       "476       NaN   342.990  0.846095  2.449574    NaN  \n",
       "477       NaN   343.706  0.846535  2.450156    NaN  \n",
       "478       NaN   343.917  0.847519  2.450370    NaN  \n",
       "479       NaN   344.138  0.847593  2.451453    NaN  \n",
       "480       NaN   346.308  0.848319  2.451816    NaN  \n",
       "481       NaN   346.714  0.849297  2.452717    NaN  \n",
       "482       NaN   347.364  0.849891  2.453278    NaN  \n",
       "483       NaN   348.085  0.850159  2.453301    NaN  \n",
       "484       NaN   348.740  0.850306  2.453769    NaN  \n",
       "485       NaN   352.718  0.850763  2.454228    NaN  \n",
       "486       NaN   353.032  0.856198  2.455384    NaN  \n",
       "487       NaN   353.285  0.858473  2.456609    NaN  \n",
       "488       NaN   354.483  0.863234  2.457340    NaN  \n",
       "489       NaN   357.414  0.864092  2.457670    NaN  \n",
       "490       NaN   359.911  0.867148  2.458657    NaN  \n",
       "491       NaN   362.021  0.868434  2.459428    NaN  \n",
       "492       NaN   365.062  0.868444  2.460308    NaN  \n",
       "493       NaN   366.620  0.870203  2.460432    NaN  \n",
       "494       NaN   367.844  0.870746  2.460875    NaN  \n",
       "495       NaN   375.651  0.872417  2.461017    NaN  \n",
       "496       NaN   390.125  0.874243  2.461510    NaN  \n",
       "497       NaN   434.235  0.874743  2.463297    NaN  \n",
       "498       NaN   448.305  0.891706  2.463546    NaN  \n",
       "499       NaN   488.837  0.904748  2.464809    NaN  \n",
       "\n",
       "[500 rows x 12 columns]"
      ]
     },
     "execution_count": 13,
     "metadata": {},
     "output_type": "execute_result"
    }
   ],
   "source": [
    "dataset.mode()"
   ]
  },
  {
   "cell_type": "markdown",
   "metadata": {},
   "source": [
    "### Variansi"
   ]
  },
  {
   "cell_type": "code",
   "execution_count": 14,
   "metadata": {
    "scrolled": true
   },
   "outputs": [
    {
     "data": {
      "text/plain": [
       "id             2.087500e+04\n",
       "Daerah         9.729761e+05\n",
       "SumbuUtama     3.342544e+02\n",
       "SumbuKecil     1.657365e+01\n",
       "Keunikan       1.338528e-03\n",
       "AreaBulatan    1.023529e+06\n",
       "Diameter       6.491311e+01\n",
       "KadarAir       8.905149e-03\n",
       "Keliling       1.393932e+03\n",
       "Bulatan        3.807194e-03\n",
       "Ransum         6.238350e-02\n",
       "Kelas          2.504970e-01\n",
       "dtype: float64"
      ]
     },
     "execution_count": 14,
     "metadata": {},
     "output_type": "execute_result"
    }
   ],
   "source": [
    "dataset.var()"
   ]
  },
  {
   "cell_type": "markdown",
   "metadata": {},
   "source": [
    "### Range (nilai maks - nilai min)"
   ]
  },
  {
   "cell_type": "code",
   "execution_count": 15,
   "metadata": {},
   "outputs": [
    {
     "data": {
      "text/plain": [
       "id              499.000000\n",
       "Daerah         4931.000000\n",
       "SumbuUtama      153.795469\n",
       "SumbuKecil       29.071182\n",
       "Keunikan          0.194085\n",
       "AreaBulatan    5141.000000\n",
       "Diameter         40.747172\n",
       "KadarAir          0.468972\n",
       "Keliling        291.822000\n",
       "Bulatan           0.730158\n",
       "Ransum            1.024013\n",
       "Kelas             1.000000\n",
       "dtype: float64"
      ]
     },
     "execution_count": 15,
     "metadata": {},
     "output_type": "execute_result"
    }
   ],
   "source": [
    "(dataset.max() - dataset.min())"
   ]
  },
  {
   "cell_type": "markdown",
   "metadata": {},
   "source": [
    "### IQR (Q3 - Q1)"
   ]
  },
  {
   "cell_type": "code",
   "execution_count": 16,
   "metadata": {},
   "outputs": [
    {
     "name": "stdout",
     "output_type": "stream",
     "text": [
      "id              250.000000\n",
      "Daerah         1453.500000\n",
      "SumbuUtama       24.992568\n",
      "SumbuKecil        5.133619\n",
      "Keunikan          0.043941\n",
      "AreaBulatan    1491.000000\n",
      "Diameter         11.909314\n",
      "KadarAir          0.154228\n",
      "Keliling         50.399000\n",
      "Bulatan           0.064424\n",
      "Ransum            0.398130\n",
      "Kelas             1.000000\n",
      "dtype: float64\n"
     ]
    }
   ],
   "source": [
    "Q3 = dataset.quantile(0.75,interpolation='midpoint')\n",
    "Q1 = dataset.quantile(0.25,interpolation='midpoint')\n",
    "print(Q3-Q1)"
   ]
  },
  {
   "cell_type": "markdown",
   "metadata": {},
   "source": [
    "### Skewness"
   ]
  },
  {
   "cell_type": "code",
   "execution_count": 17,
   "metadata": {},
   "outputs": [
    {
     "data": {
      "text/plain": [
       "id             0.000000\n",
       "Daerah         0.238144\n",
       "SumbuUtama     0.761529\n",
       "SumbuKecil    -0.010828\n",
       "Keunikan      -1.623472\n",
       "AreaBulatan    0.257560\n",
       "Diameter       0.002725\n",
       "KadarAir       0.493661\n",
       "Keliling       0.733627\n",
       "Bulatan       -3.599237\n",
       "Ransum        -0.658188\n",
       "Kelas         -0.008024\n",
       "dtype: float64"
      ]
     },
     "execution_count": 17,
     "metadata": {},
     "output_type": "execute_result"
    }
   ],
   "source": [
    "dataset.skew()"
   ]
  },
  {
   "cell_type": "markdown",
   "metadata": {},
   "source": [
    "### Kurtosis"
   ]
  },
  {
   "cell_type": "code",
   "execution_count": 18,
   "metadata": {},
   "outputs": [
    {
     "data": {
      "text/plain": [
       "id             -1.200000\n",
       "Daerah         -0.434631\n",
       "SumbuUtama      4.330534\n",
       "SumbuKecil      0.475568\n",
       "Keunikan        2.917256\n",
       "AreaBulatan    -0.409685\n",
       "Diameter       -0.466455\n",
       "KadarAir       -0.740326\n",
       "Keliling        2.272685\n",
       "Bulatan        29.975096\n",
       "Ransum         -0.428656\n",
       "Kelas          -2.007984\n",
       "dtype: float64"
      ]
     },
     "execution_count": 18,
     "metadata": {},
     "output_type": "execute_result"
    }
   ],
   "source": [
    "dataset.kurtosis()"
   ]
  },
  {
   "cell_type": "markdown",
   "metadata": {},
   "source": [
    "# 2. Membuat Visualisasi Plot Distribusi"
   ]
  },
  {
   "cell_type": "markdown",
   "metadata": {},
   "source": [
    "### Daerah"
   ]
  },
  {
   "cell_type": "code",
   "execution_count": 9,
   "metadata": {
    "scrolled": false
   },
   "outputs": [
    {
     "data": {
      "image/png": "[encoded data removed]",
      "text/plain": [
       "<Figure size 432x288 with 1 Axes>"
      ]
     },
     "metadata": {
      "needs_background": "light"
     },
     "output_type": "display_data"
    }
   ],
   "source": [
    "df = pd.DataFrame(data=dataset, columns=['Daerah'])\n",
    "boxplot = df.boxplot(column=['Daerah'], vert=False)"
   ]
  },
  {
   "cell_type": "markdown",
   "metadata": {},
   "source": [
    "Tidak terdapat outliers pada boxplot."
   ]
  },
  {
   "cell_type": "code",
   "execution_count": 10,
   "metadata": {
    "scrolled": true
   },
   "outputs": [
    {
     "data": {
      "text/plain": [
       "<matplotlib.axes._subplots.AxesSubplot at 0x15729a666c8>"
      ]
     },
     "execution_count": 10,
     "metadata": {},
     "output_type": "execute_result"
    },
    {
     "data": {
      "image/png": "[encoded data removed]",
      "text/plain": [
       "<Figure size 432x288 with 1 Axes>"
      ]
     },
     "metadata": {
      "needs_background": "light"
     },
     "output_type": "display_data"
    }
   ],
   "source": [
    "df['Daerah'].plot(kind='hist')"
   ]
  },
  {
   "cell_type": "markdown",
   "metadata": {},
   "source": [
    "Dilihat dari histogram, Daerah terdistribusi secara positively skewed, yang artinya nilai yang sering muncul rendah dan ekornya menuju nilai yang tinggi."
   ]
  },
  {
   "cell_type": "markdown",
   "metadata": {},
   "source": [
    "### Sumbu Utama"
   ]
  },
  {
   "cell_type": "code",
   "execution_count": 57,
   "metadata": {},
   "outputs": [
    {
     "data": {
      "image/png": "[encoded data removed]",
      "text/plain": [
       "<Figure size 432x288 with 1 Axes>"
      ]
     },
     "metadata": {
      "needs_background": "light"
     },
     "output_type": "display_data"
    }
   ],
   "source": [
    "df = pd.DataFrame(data=dataset, columns=['SumbuUtama'])\n",
    "boxplot = df.boxplot(column=['SumbuUtama'], vert=False)"
   ]
  },
  {
   "cell_type": "markdown",
   "metadata": {},
   "source": [
    "Dilihat dari boxplot, terdapat beberapa outliers pada angka sekitar 230."
   ]
  },
  {
   "cell_type": "code",
   "execution_count": 23,
   "metadata": {},
   "outputs": [
    {
     "data": {
      "text/plain": [
       "<matplotlib.axes._subplots.AxesSubplot at 0x275b4636438>"
      ]
     },
     "execution_count": 23,
     "metadata": {},
     "output_type": "execute_result"
    },
    {
     "data": {
      "image/png": "[encoded data removed]",
      "text/plain": [
       "<Figure size 432x288 with 1 Axes>"
      ]
     },
     "metadata": {
      "needs_background": "light"
     },
     "output_type": "display_data"
    }
   ],
   "source": [
    "df['SumbuUtama'].plot(kind='hist')"
   ]
  },
  {
   "cell_type": "markdown",
   "metadata": {},
   "source": [
    "Dilihat dari histogram, Daerah terdistribusi secara positively skewed, yang artinya nilai yang sering muncul rendah dan ekornya menuju nilai yang tinggi."
   ]
  },
  {
   "cell_type": "markdown",
   "metadata": {},
   "source": [
    "### Sumbu Kecil"
   ]
  },
  {
   "cell_type": "code",
   "execution_count": 19,
   "metadata": {},
   "outputs": [
    {
     "data": {
      "image/png": "[encoded data removed]",
      "text/plain": [
       "<Figure size 432x288 with 1 Axes>"
      ]
     },
     "metadata": {
      "needs_background": "light"
     },
     "output_type": "display_data"
    }
   ],
   "source": [
    "df = pd.DataFrame(data=dataset, columns=['SumbuKecil'])\n",
    "boxplot = df.boxplot(column=['SumbuKecil'], vert=False)"
   ]
  },
  {
   "cell_type": "markdown",
   "metadata": {},
   "source": [
    "Dilihat dari boxplot, terdapat beberapa outliers pada range 40-45 dan 65-70."
   ]
  },
  {
   "cell_type": "code",
   "execution_count": 15,
   "metadata": {},
   "outputs": [
    {
     "data": {
      "text/plain": [
       "<matplotlib.axes._subplots.AxesSubplot at 0x15729bdda48>"
      ]
     },
     "execution_count": 15,
     "metadata": {},
     "output_type": "execute_result"
    },
    {
     "data": {
      "image/png": "[encoded data removed]",
      "text/plain": [
       "<Figure size 432x288 with 1 Axes>"
      ]
     },
     "metadata": {
      "needs_background": "light"
     },
     "output_type": "display_data"
    }
   ],
   "source": [
    "df['SumbuKecil'].plot(kind='hist')"
   ]
  },
  {
   "cell_type": "markdown",
   "metadata": {},
   "source": [
    "Dilihat dari histogram, data Sumbu Kecil simetris sehingga dapat dikatakan cenderung terdistribusi normal."
   ]
  },
  {
   "cell_type": "markdown",
   "metadata": {},
   "source": [
    "### Keunikan"
   ]
  },
  {
   "cell_type": "code",
   "execution_count": 16,
   "metadata": {},
   "outputs": [
    {
     "data": {
      "image/png": "[encoded data removed]",
      "text/plain": [
       "<Figure size 432x288 with 1 Axes>"
      ]
     },
     "metadata": {
      "needs_background": "light"
     },
     "output_type": "display_data"
    }
   ],
   "source": [
    "df = pd.DataFrame(data=dataset, columns=['Keunikan'])\n",
    "boxplot = df.boxplot(column=['Keunikan'], vert=False)"
   ]
  },
  {
   "cell_type": "markdown",
   "metadata": {},
   "source": [
    "Dilihat dari boxplot, terdapat beberapa outlier pada range 0.725-0.800."
   ]
  },
  {
   "cell_type": "code",
   "execution_count": 17,
   "metadata": {},
   "outputs": [
    {
     "data": {
      "text/plain": [
       "<matplotlib.axes._subplots.AxesSubplot at 0x15729ca1ec8>"
      ]
     },
     "execution_count": 17,
     "metadata": {},
     "output_type": "execute_result"
    },
    {
     "data": {
      "image/png": "[encoded data removed]",
      "text/plain": [
       "<Figure size 432x288 with 1 Axes>"
      ]
     },
     "metadata": {
      "needs_background": "light"
     },
     "output_type": "display_data"
    }
   ],
   "source": [
    "df['Keunikan'].plot(kind='hist')"
   ]
  },
  {
   "cell_type": "markdown",
   "metadata": {},
   "source": [
    "Dilihat dari Histogram, data Keunikan terdistribusi secara negatively skewed, yang artinya nilai yang sering muncul tinggi dan ekornya menuju nilai yang rendah."
   ]
  },
  {
   "cell_type": "markdown",
   "metadata": {},
   "source": [
    "### Area Bulatan"
   ]
  },
  {
   "cell_type": "code",
   "execution_count": 18,
   "metadata": {},
   "outputs": [
    {
     "data": {
      "image/png": "[encoded data removed]",
      "text/plain": [
       "<Figure size 432x288 with 1 Axes>"
      ]
     },
     "metadata": {
      "needs_background": "light"
     },
     "output_type": "display_data"
    }
   ],
   "source": [
    "df = pd.DataFrame(data=dataset, columns=['AreaBulatan'])\n",
    "boxplot = df.boxplot(column=['AreaBulatan'], vert=False)"
   ]
  },
  {
   "cell_type": "markdown",
   "metadata": {},
   "source": [
    "Dilihat dari boxplot, tidak terdapat outlier."
   ]
  },
  {
   "cell_type": "code",
   "execution_count": 29,
   "metadata": {},
   "outputs": [
    {
     "data": {
      "text/plain": [
       "<matplotlib.axes._subplots.AxesSubplot at 0x275b58bc630>"
      ]
     },
     "execution_count": 29,
     "metadata": {},
     "output_type": "execute_result"
    },
    {
     "data": {
      "image/png": "[encoded data removed]",
      "text/plain": [
       "<Figure size 432x288 with 1 Axes>"
      ]
     },
     "metadata": {
      "needs_background": "light"
     },
     "output_type": "display_data"
    }
   ],
   "source": [
    "df['AreaBulatan'].plot(kind='hist')"
   ]
  },
  {
   "cell_type": "markdown",
   "metadata": {},
   "source": [
    "Dilihat dari Histogram, distribusi data Area Bulatan positively skewed yaitu nilai yang sering muncul rendah dan ekornya menuju nilai yang tinggi."
   ]
  },
  {
   "cell_type": "markdown",
   "metadata": {},
   "source": [
    "### Diameter"
   ]
  },
  {
   "cell_type": "code",
   "execution_count": 61,
   "metadata": {},
   "outputs": [
    {
     "data": {
      "image/png": "[encoded data removed]",
      "text/plain": [
       "<Figure size 432x288 with 1 Axes>"
      ]
     },
     "metadata": {
      "needs_background": "light"
     },
     "output_type": "display_data"
    }
   ],
   "source": [
    "df = pd.DataFrame(data=dataset, columns=['Diameter'])\n",
    "boxplot = df.boxplot(column=['Diameter'], vert=False)"
   ]
  },
  {
   "cell_type": "markdown",
   "metadata": {},
   "source": [
    "Dilihat dari boxplot, tidak terdapat outlier."
   ]
  },
  {
   "cell_type": "code",
   "execution_count": 62,
   "metadata": {},
   "outputs": [
    {
     "data": {
      "text/plain": [
       "<matplotlib.axes._subplots.AxesSubplot at 0x275b4678a58>"
      ]
     },
     "execution_count": 62,
     "metadata": {},
     "output_type": "execute_result"
    },
    {
     "data": {
      "image/png": "[encoded data removed]",
      "text/plain": [
       "<Figure size 432x288 with 1 Axes>"
      ]
     },
     "metadata": {
      "needs_background": "light"
     },
     "output_type": "display_data"
    }
   ],
   "source": [
    "df['Diameter'].plot(kind='hist')"
   ]
  },
  {
   "cell_type": "markdown",
   "metadata": {},
   "source": [
    "Dilihat dari histogram, distribusi data Diameter terlihat simetris sehingga dapat dikatakan cenderung terdistribusi normal."
   ]
  },
  {
   "cell_type": "markdown",
   "metadata": {},
   "source": [
    "### Kadar Air"
   ]
  },
  {
   "cell_type": "code",
   "execution_count": 49,
   "metadata": {},
   "outputs": [
    {
     "data": {
      "image/png": "[encoded data removed]",
      "text/plain": [
       "<Figure size 432x288 with 1 Axes>"
      ]
     },
     "metadata": {
      "needs_background": "light"
     },
     "output_type": "display_data"
    }
   ],
   "source": [
    "df = pd.DataFrame(data=dataset, columns=['KadarAir'])\n",
    "boxplot = df.boxplot(column=['KadarAir'], vert=False)"
   ]
  },
  {
   "cell_type": "markdown",
   "metadata": {},
   "source": [
    "Dilihat dari boxplot, tidak terdapat outlier."
   ]
  },
  {
   "cell_type": "code",
   "execution_count": 33,
   "metadata": {},
   "outputs": [
    {
     "data": {
      "text/plain": [
       "<matplotlib.axes._subplots.AxesSubplot at 0x275b461a630>"
      ]
     },
     "execution_count": 33,
     "metadata": {},
     "output_type": "execute_result"
    },
    {
     "data": {
      "image/png": "[encoded data removed]",
      "text/plain": [
       "<Figure size 432x288 with 1 Axes>"
      ]
     },
     "metadata": {
      "needs_background": "light"
     },
     "output_type": "display_data"
    }
   ],
   "source": [
    "df['KadarAir'].plot(kind='hist')"
   ]
  },
  {
   "cell_type": "markdown",
   "metadata": {},
   "source": [
    "Dilihat dari histogram, data Kadar Air terdistribusi positively skewed, yang artinya data yang sering muncul rendah dan ekornya menuju nilai yang tinggi."
   ]
  },
  {
   "cell_type": "markdown",
   "metadata": {},
   "source": [
    "### Keliling"
   ]
  },
  {
   "cell_type": "code",
   "execution_count": 48,
   "metadata": {},
   "outputs": [
    {
     "data": {
      "image/png": "[encoded data removed]",
      "text/plain": [
       "<Figure size 432x288 with 1 Axes>"
      ]
     },
     "metadata": {
      "needs_background": "light"
     },
     "output_type": "display_data"
    }
   ],
   "source": [
    "df = pd.DataFrame(data=dataset, columns=['Keliling'])\n",
    "boxplot = df.boxplot(column=['Keliling'], vert=False)"
   ]
  },
  {
   "cell_type": "markdown",
   "metadata": {},
   "source": [
    "Dilihat dari boxplot, terdapat beberapa outliers pada range sekitar 390-500."
   ]
  },
  {
   "cell_type": "code",
   "execution_count": 35,
   "metadata": {},
   "outputs": [
    {
     "data": {
      "text/plain": [
       "<matplotlib.axes._subplots.AxesSubplot at 0x275b47be940>"
      ]
     },
     "execution_count": 35,
     "metadata": {},
     "output_type": "execute_result"
    },
    {
     "data": {
      "image/png": "[encoded data removed]",
      "text/plain": [
       "<Figure size 432x288 with 1 Axes>"
      ]
     },
     "metadata": {
      "needs_background": "light"
     },
     "output_type": "display_data"
    }
   ],
   "source": [
    "df['Keliling'].plot(kind='hist')"
   ]
  },
  {
   "cell_type": "markdown",
   "metadata": {},
   "source": [
    "Dilihat dari histogram, data Keliling terdistribusi positively skewed yaitu nilai yang sering muncul rendah dan ekor menuju nilai yang tinggi."
   ]
  },
  {
   "cell_type": "markdown",
   "metadata": {},
   "source": [
    "### Bulatan"
   ]
  },
  {
   "cell_type": "code",
   "execution_count": 47,
   "metadata": {},
   "outputs": [
    {
     "data": {
      "image/png": "[encoded data removed]",
      "text/plain": [
       "<Figure size 432x288 with 1 Axes>"
      ]
     },
     "metadata": {
      "needs_background": "light"
     },
     "output_type": "display_data"
    }
   ],
   "source": [
    "df = pd.DataFrame(data=dataset, columns=['Bulatan'])\n",
    "boxplot = df.boxplot(column=['Bulatan'], vert=False)"
   ]
  },
  {
   "cell_type": "markdown",
   "metadata": {},
   "source": [
    "Dilihat dari boxplot, terdapat beberapa outlier."
   ]
  },
  {
   "cell_type": "code",
   "execution_count": 37,
   "metadata": {},
   "outputs": [
    {
     "data": {
      "text/plain": [
       "<matplotlib.axes._subplots.AxesSubplot at 0x275b47bee80>"
      ]
     },
     "execution_count": 37,
     "metadata": {},
     "output_type": "execute_result"
    },
    {
     "data": {
      "image/png": "[encoded data removed]",
      "text/plain": [
       "<Figure size 432x288 with 1 Axes>"
      ]
     },
     "metadata": {
      "needs_background": "light"
     },
     "output_type": "display_data"
    }
   ],
   "source": [
    "df['Bulatan'].plot(kind='hist')"
   ]
  },
  {
   "cell_type": "markdown",
   "metadata": {},
   "source": [
    "Dilihat dari Histogram, data Bulatan terdistribusi secara negatively skewed, yang artinya nilai yang sering muncul tinggi dan ekornya menuju nilai yang rendah."
   ]
  },
  {
   "cell_type": "markdown",
   "metadata": {},
   "source": [
    "### Ransum"
   ]
  },
  {
   "cell_type": "code",
   "execution_count": 46,
   "metadata": {},
   "outputs": [
    {
     "data": {
      "image/png": "[encoded data removed]",
      "text/plain": [
       "<Figure size 432x288 with 1 Axes>"
      ]
     },
     "metadata": {
      "needs_background": "light"
     },
     "output_type": "display_data"
    }
   ],
   "source": [
    "df = pd.DataFrame(data=dataset, columns=['Ransum'])\n",
    "boxplot = df.boxplot(column=['Ransum'], vert=False)"
   ]
  },
  {
   "cell_type": "markdown",
   "metadata": {},
   "source": [
    "Dilihat dari boxplot, tidak terdapat outlier."
   ]
  },
  {
   "cell_type": "code",
   "execution_count": 39,
   "metadata": {},
   "outputs": [
    {
     "data": {
      "text/plain": [
       "<matplotlib.axes._subplots.AxesSubplot at 0x275b5ab36a0>"
      ]
     },
     "execution_count": 39,
     "metadata": {},
     "output_type": "execute_result"
    },
    {
     "data": {
      "image/png": "[encoded data removed]",
      "text/plain": [
       "<Figure size 432x288 with 1 Axes>"
      ]
     },
     "metadata": {
      "needs_background": "light"
     },
     "output_type": "display_data"
    }
   ],
   "source": [
    "df['Ransum'].plot(kind='hist')"
   ]
  },
  {
   "cell_type": "markdown",
   "metadata": {},
   "source": [
    "Dilihat dari histogram, data Ransum terdistribusi negatively skewed, yang artinya nilai yang sering muncul tinggi dan ekornya menuju nilai yang rendah,"
   ]
  },
  {
   "cell_type": "markdown",
   "metadata": {},
   "source": [
    "# 3. Normality Test\n",
    "\n",
    "Menentukan setiap kolom numerik berdistribusi normal atau tidak. Gunakan normality test yang dikaitkan dengan histogram plot. (Cek apakah datanya menumpuk di IQR)"
   ]
  },
  {
   "cell_type": "markdown",
   "metadata": {},
   "source": [
    "### Daerah"
   ]
  },
  {
   "cell_type": "code",
   "execution_count": 73,
   "metadata": {},
   "outputs": [
    {
     "data": {
      "text/plain": [
       "<matplotlib.axes._subplots.AxesSubplot at 0x1a975275630>"
      ]
     },
     "execution_count": 73,
     "metadata": {},
     "output_type": "execute_result"
    },
    {
     "data": {
      "image/png": "[encoded data removed]",
      "text/plain": [
       "<Figure size 432x288 with 2 Axes>"
      ]
     },
     "metadata": {},
     "output_type": "display_data"
    }
   ],
   "source": [
    "sns.set(style=\"ticks\")\n",
    "df = dataset\n",
    " \n",
    "# creating a figure composed of two matplotlib.Axes objects (ax_box and ax_hist)\n",
    "f, (ax_box, ax_hist) = plt.subplots(2, sharex=True, gridspec_kw={\"height_ratios\": (.15, .85)})\n",
    " \n",
    "# assigning a graph to each ax\n",
    "sns.boxplot(x=df[\"Daerah\"], ax=ax_box)\n",
    "sns.histplot(data=df, x=\"Daerah\", ax=ax_hist)"
   ]
  },
  {
   "cell_type": "code",
   "execution_count": 74,
   "metadata": {},
   "outputs": [
    {
     "data": {
      "text/plain": [
       "NormaltestResult(statistic=array([10.85855133]), pvalue=array([0.00438627]))"
      ]
     },
     "execution_count": 74,
     "metadata": {},
     "output_type": "execute_result"
    }
   ],
   "source": [
    "df = pd.DataFrame(data=dataset, columns=['Daerah'])\n",
    "stats.normaltest(df)"
   ]
  },
  {
   "cell_type": "markdown",
   "metadata": {},
   "source": [
    "#### Kesimpulan\n",
    "Karena pvalue yang diperoleh bernilai sangat kecil (lebih kecil dari 0.05) dan dapat dilihat dari boxplot serta histogram yang ada, bahwa distribusi data tidak simetris, melainkan cenderung positive skewed sehingga dapat disimpulkan data tersebut __tidak terdistribusi normal.__"
   ]
  },
  {
   "cell_type": "markdown",
   "metadata": {},
   "source": [
    "***"
   ]
  },
  {
   "cell_type": "markdown",
   "metadata": {},
   "source": [
    "### Sumbu Utama"
   ]
  },
  {
   "cell_type": "code",
   "execution_count": 25,
   "metadata": {},
   "outputs": [
    {
     "data": {
      "text/plain": [
       "<matplotlib.axes._subplots.AxesSubplot at 0x1d1406e00b8>"
      ]
     },
     "execution_count": 25,
     "metadata": {},
     "output_type": "execute_result"
    },
    {
     "data": {
      "image/png": "[encoded data removed]",
      "text/plain": [
       "<Figure size 432x288 with 2 Axes>"
      ]
     },
     "metadata": {},
     "output_type": "display_data"
    }
   ],
   "source": [
    "sns.set(style=\"ticks\")\n",
    "df = dataset\n",
    "f, (ax_box, ax_hist) = plt.subplots(2, sharex=True, gridspec_kw={\"height_ratios\": (.15, .85)})\n",
    "sns.boxplot(x=df[\"SumbuUtama\"], ax=ax_box)\n",
    "sns.histplot(data=df, x=\"SumbuUtama\", ax=ax_hist)"
   ]
  },
  {
   "cell_type": "code",
   "execution_count": 29,
   "metadata": {
    "scrolled": true
   },
   "outputs": [
    {
     "data": {
      "text/plain": [
       "NormaltestResult(statistic=array([95.12010812]), pvalue=array([2.21274293e-21]))"
      ]
     },
     "execution_count": 29,
     "metadata": {},
     "output_type": "execute_result"
    }
   ],
   "source": [
    "df = pd.DataFrame(data=dataset, columns=['SumbuUtama'])\n",
    "stats.normaltest(df)"
   ]
  },
  {
   "cell_type": "markdown",
   "metadata": {},
   "source": [
    "#### Kesimpulan\n",
    "Karena pvalue yang diperoleh bernilai sangat kecil dan dapat dilihat dari boxplot serta histogram yang ada, bahwa distribusi data tidak simetris, melainkan cenderung positive skewed sehingga dapat disimpulkan data tersebut __tidak terdistribusi normal__."
   ]
  },
  {
   "cell_type": "markdown",
   "metadata": {},
   "source": [
    "***"
   ]
  },
  {
   "cell_type": "markdown",
   "metadata": {},
   "source": [
    "### Sumbu Kecil"
   ]
  },
  {
   "cell_type": "code",
   "execution_count": 40,
   "metadata": {},
   "outputs": [
    {
     "data": {
      "text/plain": [
       "<matplotlib.axes._subplots.AxesSubplot at 0x1d141be2da0>"
      ]
     },
     "execution_count": 40,
     "metadata": {},
     "output_type": "execute_result"
    },
    {
     "data": {
      "image/png": "[encoded data removed]",
      "text/plain": [
       "<Figure size 432x288 with 2 Axes>"
      ]
     },
     "metadata": {},
     "output_type": "display_data"
    }
   ],
   "source": [
    "sns.set(style=\"ticks\")\n",
    "df = dataset\n",
    "f, (ax_box, ax_hist) = plt.subplots(2, sharex=True, gridspec_kw={\"height_ratios\": (.15, .85)})\n",
    "sns.boxplot(x=df[\"SumbuKecil\"], ax=ax_box)\n",
    "sns.histplot(data=df, x=\"SumbuKecil\", ax=ax_hist)"
   ]
  },
  {
   "cell_type": "code",
   "execution_count": 42,
   "metadata": {},
   "outputs": [
    {
     "data": {
      "text/plain": [
       "NormaltestResult(statistic=array([3.69839447]), pvalue=array([0.15736344]))"
      ]
     },
     "execution_count": 42,
     "metadata": {},
     "output_type": "execute_result"
    }
   ],
   "source": [
    "df = pd.DataFrame(data=dataset, columns=['SumbuKecil'])\n",
    "stats.normaltest(df)"
   ]
  },
  {
   "cell_type": "markdown",
   "metadata": {},
   "source": [
    "#### Kesimpulan\n",
    "Dilihat dari boxplot dan histogram yang ada, distribusi data cenderung simetris dan data cenderung menumpuk di IQR. pvalue yang diperoleh juga cukup besar (>0.05) sehingga dapat disimpulkan data SumbuKecil tersebut __terdistribusi normal.__"
   ]
  },
  {
   "cell_type": "markdown",
   "metadata": {},
   "source": [
    "***"
   ]
  },
  {
   "cell_type": "markdown",
   "metadata": {},
   "source": [
    "### Keunikan"
   ]
  },
  {
   "cell_type": "code",
   "execution_count": 44,
   "metadata": {},
   "outputs": [
    {
     "data": {
      "text/plain": [
       "<matplotlib.axes._subplots.AxesSubplot at 0x1d141cdec50>"
      ]
     },
     "execution_count": 44,
     "metadata": {},
     "output_type": "execute_result"
    },
    {
     "data": {
      "image/png": "[encoded data removed]",
      "text/plain": [
       "<Figure size 432x288 with 2 Axes>"
      ]
     },
     "metadata": {},
     "output_type": "display_data"
    }
   ],
   "source": [
    "sns.set(style=\"ticks\")\n",
    "df = dataset\n",
    "f, (ax_box, ax_hist) = plt.subplots(2, sharex=True, gridspec_kw={\"height_ratios\": (.15, .85)})\n",
    "sns.boxplot(x=df[\"Keunikan\"], ax=ax_box)\n",
    "sns.histplot(data=df, x=\"Keunikan\", ax=ax_hist)"
   ]
  },
  {
   "cell_type": "code",
   "execution_count": 45,
   "metadata": {},
   "outputs": [
    {
     "data": {
      "text/plain": [
       "NormaltestResult(statistic=array([158.61743887]), pvalue=array([3.60297114e-35]))"
      ]
     },
     "execution_count": 45,
     "metadata": {},
     "output_type": "execute_result"
    }
   ],
   "source": [
    "df = pd.DataFrame(data=dataset, columns=['Keunikan'])\n",
    "stats.normaltest(df)"
   ]
  },
  {
   "cell_type": "markdown",
   "metadata": {},
   "source": [
    "#### Kesimpulan\n",
    "Dari boxplot dan histogram yang ada, terlihat jelas bahwa distribusi data tidak simetris melainkan cenderung negative skewed. Selain itu, pvalue yang diperoleh juga sangat kecil sehingga dapat disimpulkan bahwa data tersebut __tidak terdistribusi normal__."
   ]
  },
  {
   "cell_type": "markdown",
   "metadata": {},
   "source": [
    "***"
   ]
  },
  {
   "cell_type": "markdown",
   "metadata": {},
   "source": [
    "### AreaBulatan"
   ]
  },
  {
   "cell_type": "code",
   "execution_count": 46,
   "metadata": {},
   "outputs": [
    {
     "data": {
      "text/plain": [
       "<matplotlib.axes._subplots.AxesSubplot at 0x1d141dd1748>"
      ]
     },
     "execution_count": 46,
     "metadata": {},
     "output_type": "execute_result"
    },
    {
     "data": {
      "image/png": "[encoded data removed]",
      "text/plain": [
       "<Figure size 432x288 with 2 Axes>"
      ]
     },
     "metadata": {},
     "output_type": "display_data"
    }
   ],
   "source": [
    "sns.set(style=\"ticks\")\n",
    "df = dataset\n",
    "f, (ax_box, ax_hist) = plt.subplots(2, sharex=True, gridspec_kw={\"height_ratios\": (.15, .85)})\n",
    "sns.boxplot(x=df[\"AreaBulatan\"], ax=ax_box)\n",
    "sns.histplot(data=df, x=\"AreaBulatan\", ax=ax_hist)"
   ]
  },
  {
   "cell_type": "code",
   "execution_count": 48,
   "metadata": {},
   "outputs": [
    {
     "data": {
      "text/plain": [
       "NormaltestResult(statistic=array([10.73874234]), pvalue=array([0.00465706]))"
      ]
     },
     "execution_count": 48,
     "metadata": {},
     "output_type": "execute_result"
    }
   ],
   "source": [
    "df = pd.DataFrame(data=dataset, columns=['AreaBulatan'])\n",
    "stats.normaltest(df)"
   ]
  },
  {
   "cell_type": "markdown",
   "metadata": {},
   "source": [
    "#### Kesimpulan\n",
    "Karena pvalue yang diperoleh bernilai kecil dan dapat dilihat dari boxplot serta histogram yang ada, bahwa distribusi data tidak simetris, melainkan cenderung positive skewed sehingga dapat disimpulkan data tersebut __tidak terdistribusi normal__."
   ]
  },
  {
   "cell_type": "markdown",
   "metadata": {},
   "source": [
    "***"
   ]
  },
  {
   "cell_type": "markdown",
   "metadata": {},
   "source": [
    "### Diameter"
   ]
  },
  {
   "cell_type": "code",
   "execution_count": 50,
   "metadata": {},
   "outputs": [
    {
     "data": {
      "text/plain": [
       "<matplotlib.axes._subplots.AxesSubplot at 0x1d141aa1d30>"
      ]
     },
     "execution_count": 50,
     "metadata": {},
     "output_type": "execute_result"
    },
    {
     "data": {
      "image/png": "[encoded data removed]",
      "text/plain": [
       "<Figure size 432x288 with 2 Axes>"
      ]
     },
     "metadata": {},
     "output_type": "display_data"
    }
   ],
   "source": [
    "sns.set(style=\"ticks\")\n",
    "df = dataset\n",
    "f, (ax_box, ax_hist) = plt.subplots(2, sharex=True, gridspec_kw={\"height_ratios\": (.15, .85)})\n",
    "sns.boxplot(x=df[\"Diameter\"], ax=ax_box)\n",
    "sns.histplot(data=df, x=\"Diameter\", ax=ax_hist)"
   ]
  },
  {
   "cell_type": "code",
   "execution_count": 51,
   "metadata": {},
   "outputs": [
    {
     "data": {
      "text/plain": [
       "NormaltestResult(statistic=array([7.44634577]), pvalue=array([0.0241572]))"
      ]
     },
     "execution_count": 51,
     "metadata": {},
     "output_type": "execute_result"
    }
   ],
   "source": [
    "df = pd.DataFrame(data=dataset, columns=['Diameter'])\n",
    "stats.normaltest(df)"
   ]
  },
  {
   "cell_type": "markdown",
   "metadata": {},
   "source": [
    "#### Kesimpulan\n",
    "Jika ditinjau dari histogram dan boxplot yang ada, terlihat data tersebut hampir simetris. Namun pvalue yang diperoleh masih lebih kecil dari 0.05 sehingga data tersebut __tidak terdistribusi normal__."
   ]
  },
  {
   "cell_type": "markdown",
   "metadata": {},
   "source": [
    "***"
   ]
  },
  {
   "cell_type": "markdown",
   "metadata": {},
   "source": [
    "### KadarAir"
   ]
  },
  {
   "cell_type": "code",
   "execution_count": 52,
   "metadata": {},
   "outputs": [
    {
     "data": {
      "text/plain": [
       "<matplotlib.axes._subplots.AxesSubplot at 0x1d14204a5c0>"
      ]
     },
     "execution_count": 52,
     "metadata": {},
     "output_type": "execute_result"
    },
    {
     "data": {
      "image/png": "[encoded data removed]",
      "text/plain": [
       "<Figure size 432x288 with 2 Axes>"
      ]
     },
     "metadata": {},
     "output_type": "display_data"
    }
   ],
   "source": [
    "sns.set(style=\"ticks\")\n",
    "df = dataset\n",
    "f, (ax_box, ax_hist) = plt.subplots(2, sharex=True, gridspec_kw={\"height_ratios\": (.15, .85)})\n",
    "sns.boxplot(x=df[\"KadarAir\"], ax=ax_box)\n",
    "sns.histplot(data=df, x=\"KadarAir\", ax=ax_hist)"
   ]
  },
  {
   "cell_type": "code",
   "execution_count": 57,
   "metadata": {},
   "outputs": [
    {
     "data": {
      "text/plain": [
       "NormaltestResult(statistic=array([48.75592346]), pvalue=array([2.58693634e-11]))"
      ]
     },
     "execution_count": 57,
     "metadata": {},
     "output_type": "execute_result"
    }
   ],
   "source": [
    "df = pd.DataFrame(data=dataset, columns=['KadarAir'])\n",
    "stats.normaltest(df)"
   ]
  },
  {
   "cell_type": "markdown",
   "metadata": {},
   "source": [
    "#### Kesimpulan\n",
    "Dari boxplot dan histogram yang ada, terlihat jelas bahwa distribusi data tidak simetris melainkan cenderung positive skewed. Selain itu, pvalue yang diperoleh juga sangat kecil sehingga dapat disimpulkan bahwa data tersebut __tidak terdistribusi normal__."
   ]
  },
  {
   "cell_type": "markdown",
   "metadata": {},
   "source": [
    "***"
   ]
  },
  {
   "cell_type": "markdown",
   "metadata": {},
   "source": [
    "### Keliling"
   ]
  },
  {
   "cell_type": "code",
   "execution_count": 53,
   "metadata": {},
   "outputs": [
    {
     "data": {
      "text/plain": [
       "<matplotlib.axes._subplots.AxesSubplot at 0x1d14211ee10>"
      ]
     },
     "execution_count": 53,
     "metadata": {},
     "output_type": "execute_result"
    },
    {
     "data": {
      "image/png": "[encoded data removed]",
      "text/plain": [
       "<Figure size 432x288 with 2 Axes>"
      ]
     },
     "metadata": {},
     "output_type": "display_data"
    }
   ],
   "source": [
    "sns.set(style=\"ticks\")\n",
    "df = dataset\n",
    "f, (ax_box, ax_hist) = plt.subplots(2, sharex=True, gridspec_kw={\"height_ratios\": (.15, .85)})\n",
    "sns.boxplot(x=df[\"Keliling\"], ax=ax_box)\n",
    "sns.histplot(data=df, x=\"Keliling\", ax=ax_hist)"
   ]
  },
  {
   "cell_type": "code",
   "execution_count": 58,
   "metadata": {},
   "outputs": [
    {
     "data": {
      "text/plain": [
       "NormaltestResult(statistic=array([67.46548246]), pvalue=array([2.23901304e-15]))"
      ]
     },
     "execution_count": 58,
     "metadata": {},
     "output_type": "execute_result"
    }
   ],
   "source": [
    "df = pd.DataFrame(data=dataset, columns=['Keliling'])\n",
    "stats.normaltest(df)"
   ]
  },
  {
   "cell_type": "markdown",
   "metadata": {},
   "source": [
    "#### Kesimpulan\n",
    "Dari boxplot dan histogram yang ada, terlihat jelas bahwa distribusi data tidak simetris melainkan cenderung positive skewed. Selain itu, pvalue yang diperoleh juga sangat kecil sehingga dapat disimpulkan bahwa data tersebut __tidak terdistribusi normal__."
   ]
  },
  {
   "cell_type": "markdown",
   "metadata": {},
   "source": [
    "***"
   ]
  },
  {
   "cell_type": "markdown",
   "metadata": {},
   "source": [
    "### Bulatan"
   ]
  },
  {
   "cell_type": "code",
   "execution_count": 54,
   "metadata": {},
   "outputs": [
    {
     "data": {
      "text/plain": [
       "<matplotlib.axes._subplots.AxesSubplot at 0x1d142219f60>"
      ]
     },
     "execution_count": 54,
     "metadata": {},
     "output_type": "execute_result"
    },
    {
     "data": {
      "image/png": "[encoded data removed]",
      "text/plain": [
       "<Figure size 432x288 with 2 Axes>"
      ]
     },
     "metadata": {},
     "output_type": "display_data"
    }
   ],
   "source": [
    "sns.set(style=\"ticks\")\n",
    "df = dataset\n",
    "f, (ax_box, ax_hist) = plt.subplots(2, sharex=True, gridspec_kw={\"height_ratios\": (.15, .85)})\n",
    "sns.boxplot(x=df[\"Bulatan\"], ax=ax_box)\n",
    "sns.histplot(data=df, x=\"Bulatan\", ax=ax_hist)"
   ]
  },
  {
   "cell_type": "code",
   "execution_count": 64,
   "metadata": {},
   "outputs": [
    {
     "data": {
      "text/plain": [
       "NormaltestResult(statistic=array([442.11941527]), pvalue=array([9.8852761e-97]))"
      ]
     },
     "execution_count": 64,
     "metadata": {},
     "output_type": "execute_result"
    }
   ],
   "source": [
    "df = pd.DataFrame(data=dataset, columns=['Bulatan'])\n",
    "stats.normaltest(df)"
   ]
  },
  {
   "cell_type": "markdown",
   "metadata": {},
   "source": [
    "#### Kesimpulan\n",
    "Dari boxplot dan histogram yang ada, terlihat jelas bahwa distribusi data tidak simetris melainkan cenderung negative skewed. Selain itu, pvalue yang diperoleh juga sangat kecil sehingga dapat disimpulkan bahwa data tersebut __tidak terdistribusi normal__."
   ]
  },
  {
   "cell_type": "markdown",
   "metadata": {},
   "source": [
    "***"
   ]
  },
  {
   "cell_type": "markdown",
   "metadata": {},
   "source": [
    "### Ransum"
   ]
  },
  {
   "cell_type": "code",
   "execution_count": 55,
   "metadata": {},
   "outputs": [
    {
     "data": {
      "text/plain": [
       "<matplotlib.axes._subplots.AxesSubplot at 0x1d142352f60>"
      ]
     },
     "execution_count": 55,
     "metadata": {},
     "output_type": "execute_result"
    },
    {
     "data": {
      "image/png": "[encoded data removed]",
      "text/plain": [
       "<Figure size 432x288 with 2 Axes>"
      ]
     },
     "metadata": {},
     "output_type": "display_data"
    }
   ],
   "source": [
    "sns.set(style=\"ticks\")\n",
    "df = dataset\n",
    "f, (ax_box, ax_hist) = plt.subplots(2, sharex=True, gridspec_kw={\"height_ratios\": (.15, .85)})\n",
    "sns.boxplot(x=df[\"Ransum\"], ax=ax_box)\n",
    "sns.histplot(data=df, x=\"Ransum\", ax=ax_hist)"
   ]
  },
  {
   "cell_type": "code",
   "execution_count": 63,
   "metadata": {},
   "outputs": [
    {
     "data": {
      "text/plain": [
       "NormaltestResult(statistic=array([37.06031989]), pvalue=array([8.96300804e-09]))"
      ]
     },
     "execution_count": 63,
     "metadata": {},
     "output_type": "execute_result"
    }
   ],
   "source": [
    "df = pd.DataFrame(data=dataset, columns=['Ransum'])\n",
    "stats.normaltest(df)"
   ]
  },
  {
   "cell_type": "markdown",
   "metadata": {},
   "source": [
    "#### Kesimpulan\n",
    "Dari boxplot dan histogram yang ada, terlihat jelas bahwa distribusi data tidak simetris melainkan cenderung negative skewed. Selain itu, pvalue yang diperoleh juga sangat kecil sehingga dapat disimpulkan bahwa data tersebut __tidak terdistribusi normal__."
   ]
  },
  {
   "cell_type": "markdown",
   "metadata": {},
   "source": [
    "***"
   ]
  },
  {
   "cell_type": "markdown",
   "metadata": {},
   "source": [
    "### Kelas"
   ]
  },
  {
   "cell_type": "code",
   "execution_count": 56,
   "metadata": {},
   "outputs": [
    {
     "data": {
      "text/plain": [
       "<matplotlib.axes._subplots.AxesSubplot at 0x1d142429d30>"
      ]
     },
     "execution_count": 56,
     "metadata": {},
     "output_type": "execute_result"
    },
    {
     "data": {
      "image/png": "[encoded data removed]",
      "text/plain": [
       "<Figure size 432x288 with 2 Axes>"
      ]
     },
     "metadata": {},
     "output_type": "display_data"
    }
   ],
   "source": [
    "sns.set(style=\"ticks\")\n",
    "df = dataset\n",
    "f, (ax_box, ax_hist) = plt.subplots(2, sharex=True, gridspec_kw={\"height_ratios\": (.15, .85)})\n",
    "sns.boxplot(x=df[\"Kelas\"], ax=ax_box)\n",
    "sns.histplot(data=df, x=\"Kelas\", ax=ax_hist)"
   ]
  },
  {
   "cell_type": "code",
   "execution_count": 61,
   "metadata": {},
   "outputs": [
    {
     "data": {
      "text/plain": [
       "NormaltestResult(statistic=array([2069.99535962]), pvalue=array([0.]))"
      ]
     },
     "execution_count": 61,
     "metadata": {},
     "output_type": "execute_result"
    }
   ],
   "source": [
    "df = pd.DataFrame(data=dataset, columns=['Kelas'])\n",
    "stats.normaltest(df)"
   ]
  },
  {
   "cell_type": "markdown",
   "metadata": {},
   "source": [
    "#### Kesimpulan\n",
    "pvalue yang diperoleh cenderung kecil $<0.05$ sehingga dapat disimpulkan bahwa data tersebut __tidak terdistribusi normal__."
   ]
  },
  {
   "cell_type": "markdown",
   "metadata": {},
   "source": [
    "***"
   ]
  },
  {
   "cell_type": "markdown",
   "metadata": {},
   "source": [
    "# 4. Melakukan Test Hipotesis 1 Sampel"
   ]
  },
  {
   "cell_type": "code",
   "execution_count": 59,
   "metadata": {},
   "outputs": [],
   "source": [
    "# mencari z\n",
    "def findZ(df, xbar):\n",
    "    z = (df.mean()-xbar)/(df.std()/math.sqrt(df.count()))\n",
    "    return z\n",
    "# lakukan tes hipotesis\n",
    "def hypotesis_test(z,type,critical_region, critical_region2):\n",
    "    if((type==\"GREATER\" and float(z)>critical_region)or (type==\"LESS\" and float(z)<critical_region) or (type==\"INEQUAL\" and float(z)<critical_region or float(z)>critical_region2)):\n",
    "        if(type==\"GREATER\" or type==\"INEQUAL\" and float(z)>critical_region):\n",
    "            print(\"Hipotesis ditolak karena lebih besar dari daerah kritis\\n\")\n",
    "        else:\n",
    "            print(\"Hipotesis ditolak karena lebih kecil dari daerah kritis\\n\")\n",
    "    else:\n",
    "        print(\"Hipotesis diterima\\n\")"
   ]
  },
  {
   "cell_type": "markdown",
   "metadata": {},
   "source": [
    "Nilai rata-rata Daerah di atas 4700"
   ]
  },
  {
   "cell_type": "code",
   "execution_count": 44,
   "metadata": {},
   "outputs": [
    {
     "data": {
      "image/png": "[encoded data removed]",
      "text/plain": [
       "<Figure size 432x288 with 1 Axes>"
      ]
     },
     "metadata": {
      "needs_background": "light"
     },
     "output_type": "display_data"
    }
   ],
   "source": [
    "df = pd.DataFrame(data=dataset, columns=['Daerah'])\n",
    "boxplot = df.boxplot(column=['Daerah'], vert=False)"
   ]
  },
  {
   "cell_type": "markdown",
   "metadata": {},
   "source": [
    "#### 1. Tentukan Hipotesis nol H0 \n",
    "\n",
    "H0: μDaerah = 4700\n",
    "\n",
    "#### 2. Pilih hipotesis alternatif H1 \n",
    "\n",
    "H0: μDaerah > 4700.\n",
    "\n",
    "#### 3. Tentukan tingkat signifikan α.\n",
    "\n",
    "α = 0.05\n",
    "\n",
    "#### 4. Tentukan uji statistik yang sesuai dan tentukan daerah kritis.\n",
    "\n",
    "Daerah kritis z > z0.05=1.645 karena \n",
    "P(Z<1.645)=0.95\n",
    "\n",
    "\n",
    "#### 5. Hitung nilai uji statistik dari data sample. Hitung p-value sesuai dengan uji statistik yang digunakan."
   ]
  },
  {
   "cell_type": "code",
   "execution_count": 45,
   "metadata": {},
   "outputs": [
    {
     "name": "stdout",
     "output_type": "stream",
     "text": [
      "Daerah    2.295154\n",
      "dtype: float64\n"
     ]
    }
   ],
   "source": [
    "# gunakan fungsi yang terdefinisi di atas\n",
    "critical_region = 1.645\n",
    "type = \"GREATER\"\n",
    "xbar = 4700\n",
    "z = findZ(df,xbar)\n",
    "print(z)"
   ]
  },
  {
   "cell_type": "markdown",
   "metadata": {},
   "source": [
    "#### 6. Ambil keputusan dengan TOLAK H0 jika nilai uji terletak di daerah kritis atau dengan tes signifikan, TOLAK H0 jika p-value lebih kecil dibanding tingkat signifikansi α yang diinginkan"
   ]
  },
  {
   "cell_type": "code",
   "execution_count": 46,
   "metadata": {},
   "outputs": [
    {
     "name": "stdout",
     "output_type": "stream",
     "text": [
      "Hipotesis ditolak karena lebih besar dari daerah kritis\n",
      "\n"
     ]
    }
   ],
   "source": [
    "hypotesis_test(z,type,critical_region,0) # critical_region2 disetel 0 karena tidak ada"
   ]
  },
  {
   "cell_type": "markdown",
   "metadata": {},
   "source": [
    "Nilai Rata-rata Sumbu Utama tidak sama dengan 116?"
   ]
  },
  {
   "cell_type": "code",
   "execution_count": 60,
   "metadata": {},
   "outputs": [
    {
     "data": {
      "image/png": "[encoded data removed]",
      "text/plain": [
       "<Figure size 432x288 with 1 Axes>"
      ]
     },
     "metadata": {
      "needs_background": "light"
     },
     "output_type": "display_data"
    }
   ],
   "source": [
    "df = pd.DataFrame(data=dataset, columns=['SumbuUtama'])\n",
    "boxplot = df.boxplot(column=['SumbuUtama'], vert=False)"
   ]
  },
  {
   "cell_type": "markdown",
   "metadata": {},
   "source": [
    "#### 1. Tentukan Hipotesis nol H0 \n",
    "\n",
    "μSumbuUtama = 116\n",
    "\n",
    "#### 2. Pilih hipotesis alternatif H1 \n",
    "\n",
    "μSumbuUtama <> 116.\n",
    "\n",
    "#### 3. Tentukan tingkat signifikan α.\n",
    "\n",
    "#### 4. Tentukan uji statistik yang sesuai dan tentukan daerah kritis.\n",
    "\n",
    "Daerah kritis: Z < -1.96 atau Z > 1.96\n",
    "Diperoleh dari:  Z < -Z α/2 atau Z > Z α/2, dengan Z α/2 = Z0.975 = 1.96\n",
    "\n",
    "#### 5. Hitung nilai uji statistik dari data sample. Hitung p-value sesuai dengan uji statistik yang digunakan."
   ]
  },
  {
   "cell_type": "code",
   "execution_count": 61,
   "metadata": {},
   "outputs": [
    {
     "name": "stdout",
     "output_type": "stream",
     "text": [
      "SumbuUtama    0.055247\n",
      "dtype: float64\n"
     ]
    }
   ],
   "source": [
    "critical_region1=-1.96\n",
    "critical_region2=1.96\n",
    "type=\"INEQUAL\"\n",
    "xbar=116\n",
    "z = findZ(df,xbar)\n",
    "print(z)"
   ]
  },
  {
   "cell_type": "markdown",
   "metadata": {},
   "source": [
    "#### 6. Ambil keputusan dengan TOLAK H0 jika nilai uji terletak di daerah kritis atau dengan tes signifikan, TOLAK H0 jika p-value lebih kecil dibanding tingkat signifikansi α yang diinginkan"
   ]
  },
  {
   "cell_type": "code",
   "execution_count": 62,
   "metadata": {},
   "outputs": [
    {
     "name": "stdout",
     "output_type": "stream",
     "text": [
      "Hipotesis diterima\n",
      "\n"
     ]
    }
   ],
   "source": [
    "hypotesis_test(z,type,critical_region1,critical_region2) "
   ]
  },
  {
   "cell_type": "markdown",
   "metadata": {},
   "source": [
    "Nilai Rata-rata 20 baris pertama kolom Sumbu Kecil bukan 50?"
   ]
  },
  {
   "cell_type": "code",
   "execution_count": 66,
   "metadata": {},
   "outputs": [
    {
     "data": {
      "image/png": "[encoded data removed]",
      "text/plain": [
       "<Figure size 432x288 with 1 Axes>"
      ]
     },
     "metadata": {
      "needs_background": "light"
     },
     "output_type": "display_data"
    }
   ],
   "source": [
    "df = pd.DataFrame(data=dataset, columns=['SumbuKecil'])\n",
    "boxplot = df[:19].boxplot(column=['SumbuKecil'], vert=False)"
   ]
  },
  {
   "cell_type": "markdown",
   "metadata": {},
   "source": [
    "#### 1. Tentukan Hipotesis nol H0 \n",
    "\n",
    "μSumbuKecil = 50\n",
    "\n",
    "#### 2. Pilih hipotesis alternatif H1 \n",
    "\n",
    "μSumbuKecil <> 50\n",
    "\n",
    "#### 3. Tentukan tingkat signifikan α.\n",
    "\n",
    "#### 4. Tentukan uji statistik yang sesuai dan tentukan daerah kritis.\n",
    "\n",
    "Daerah kritis: Z < -1.96 atau Z > 1.96\n",
    "Diperoleh dari:  Z < -Z α/2 atau Z > Z α/2, dengan Z α/2 = Z0.975 = 1.96\n",
    "\n",
    "#### 5. Hitung nilai uji statistik dari data sample. Hitung p-value sesuai dengan uji statistik yang digunakan."
   ]
  },
  {
   "cell_type": "code",
   "execution_count": 67,
   "metadata": {},
   "outputs": [
    {
     "name": "stdout",
     "output_type": "stream",
     "text": [
      "SumbuKecil    6.478169\n",
      "dtype: float64\n"
     ]
    }
   ],
   "source": [
    "critical_region1=-1.96\n",
    "critical_region2=1.96\n",
    "type=\"INEQUAL\"\n",
    "xbar=50\n",
    "z = findZ(df.loc[:19],xbar)\n",
    "print(z)"
   ]
  },
  {
   "cell_type": "markdown",
   "metadata": {},
   "source": [
    "#### 6. Ambil keputusan dengan TOLAK H0 jika nilai uji terletak di daerah kritis atau dengan tes signifikan, TOLAK H0 jika p-value lebih kecil dibanding tingkat signifikansi α yang diinginkan"
   ]
  },
  {
   "cell_type": "code",
   "execution_count": 68,
   "metadata": {},
   "outputs": [
    {
     "name": "stdout",
     "output_type": "stream",
     "text": [
      "Hipotesis ditolak karena lebih besar dari daerah kritis\n",
      "\n"
     ]
    }
   ],
   "source": [
    "hypotesis_test(z,type,critical_region1,critical_region2) "
   ]
  },
  {
   "cell_type": "markdown",
   "metadata": {},
   "source": [
    "Proporsi nilai Diameter yang lebih dari 85, adalah tidak sama dengan 15% ?"
   ]
  },
  {
   "cell_type": "code",
   "execution_count": 69,
   "metadata": {},
   "outputs": [
    {
     "data": {
      "image/png": "[encoded data removed]",
      "text/plain": [
       "<Figure size 432x288 with 1 Axes>"
      ]
     },
     "metadata": {
      "needs_background": "light"
     },
     "output_type": "display_data"
    }
   ],
   "source": [
    "df = pd.DataFrame(data=dataset, columns=['Diameter'])\n",
    "boxplot = df[:19].boxplot(column=['Diameter'], vert=False)"
   ]
  },
  {
   "cell_type": "markdown",
   "metadata": {},
   "source": [
    "#### 1. Tentukan Hipotesis nol H0 \n",
    "\n",
    "P(X>85)=0.15\n",
    "\n",
    "#### 2. Pilih hipotesis alternatif H1 \n",
    "\n",
    "P(X>85)<>0.15\n",
    "\n",
    "#### 3. Tentukan tingkat signifikan α.\n",
    "\n",
    "#### 4. Tentukan uji statistik yang sesuai dan tentukan daerah kritis.\n",
    "\n",
    "Daerah kritis: Z < -1.96 atau Z > 1.96\n",
    "Diperoleh dari:  Z < -Z α/2 atau Z > Z α/2, dengan Z α/2 = Z0.975 = 1.96\n",
    "\n",
    "#### 5. Hitung nilai uji statistik dari data sample. Hitung p-value sesuai dengan uji statistik yang digunakan."
   ]
  },
  {
   "cell_type": "markdown",
   "metadata": {},
   "source": [
    "Proporsi nilai Keliling yang kurang dari 100, adalah kurang dari 5% ?"
   ]
  },
  {
   "cell_type": "markdown",
   "metadata": {},
   "source": [
    "# 5. Test Hipotesis 2 Sampel"
   ]
  },
  {
   "cell_type": "markdown",
   "metadata": {},
   "source": [
    "#### Data kolom AreaBulatan dibagi 2 sama rata: bagian awal dan bagian akhir kolom. Benarkah rata-rata kedua bagian tersebut sama?"
   ]
  },
  {
   "cell_type": "code",
   "execution_count": 8,
   "metadata": {
    "scrolled": true
   },
   "outputs": [],
   "source": [
    "# generate sample data 1 (250 data pertama)\n",
    "dataAB1 = dataset['AreaBulatan'].head(250)\n",
    "sampAB1 = dataAB1.sample(n=50)"
   ]
  },
  {
   "cell_type": "code",
   "execution_count": 9,
   "metadata": {
    "scrolled": true
   },
   "outputs": [],
   "source": [
    "# generate sample data 2 (250 data terakhir)\n",
    "dataAB2 = dataset['AreaBulatan'].tail(250)\n",
    "sampAB2 = dataAB2.sample(n=50)"
   ]
  },
  {
   "cell_type": "code",
   "execution_count": 10,
   "metadata": {},
   "outputs": [],
   "source": [
    "# data-data yang dibutuhkan\n",
    "\n",
    "# rata-rata sampel\n",
    "meanSampAB1 = sampAB1.mean()\n",
    "meanSampAB2 = sampAB2.mean()\n",
    "\n",
    "# std populasi\n",
    "stdSampAB1 = sampAB1.std()\n",
    "stdSampAB2 = sampAB2.std()\n",
    "\n",
    "# n sampel\n",
    "nSampAB1 = sampAB1.count()\n",
    "nSampAB2 = sampAB2.count()"
   ]
  },
  {
   "cell_type": "markdown",
   "metadata": {},
   "source": [
    "#### 1) Menentukan hipotesis nol\n",
    "- $H_0 : μ_1 = μ_2$ *sehingga*\n",
    "- $H_0 : μ_1 - μ_2 = 0$"
   ]
  },
  {
   "cell_type": "markdown",
   "metadata": {},
   "source": [
    "#### 2) Menentukan hipotesis alternatif\n",
    "- $H_1 : μ_1 ≠ μ_2$ *sehingga*\n",
    "- $H_1 : μ_1 - μ_2 ≠ 0$ *(two tailed test)*"
   ]
  },
  {
   "cell_type": "markdown",
   "metadata": {},
   "source": [
    "#### 3) Menentukan tingkat signifikan α\n",
    "- $α = 0.05$"
   ]
  },
  {
   "cell_type": "code",
   "execution_count": 48,
   "metadata": {},
   "outputs": [],
   "source": [
    "alfa = 0.05"
   ]
  },
  {
   "cell_type": "markdown",
   "metadata": {},
   "source": [
    "#### 4) Menentukan uji statistik yang sesuai dan menentukan daerah kritis\n",
    "standar deviasi kedua populasi tidak diketahui dan diasumsikan __tidak sama__,<br>\n",
    "maka digunakan t-distribution untuk memperoleh p-value"
   ]
  },
  {
   "cell_type": "markdown",
   "metadata": {},
   "source": [
    "__fungsi - fungsi__ "
   ]
  },
  {
   "cell_type": "code",
   "execution_count": 35,
   "metadata": {},
   "outputs": [],
   "source": [
    "# komponen 1\n",
    "def k1(s1,s2,n1,n2):\n",
    "    return(s1**2/n1 + s2**2/n2)\n",
    "\n",
    "# komponen 2\n",
    "def k2(s,n):\n",
    "    pembilang = (s**2/n)**2\n",
    "    penyebut = n - 1\n",
    "    return(pembilang/penyebut)\n",
    "\n",
    "# mencari t'\n",
    "def t_aksen(xbar1,xbar2,n1,n2,s1,s2,d0):\n",
    "    pembilang = (xbar1 - xbar2) - d0\n",
    "    penyebut = sqrt(k1(s1,s2,n1,n2))\n",
    "    return(pembilang/penyebut)\n",
    "\n",
    "# mencari v\n",
    "def v(s1,s2,n1,n2):\n",
    "    pembilang = (k1(s1,s2,n1,n2))**2\n",
    "    penyebut = k2(s1,n1) + k2(s2,n2)\n",
    "    return(pembilang/penyebut)\n",
    "\n",
    "def displaymd(text):\n",
    "    display(md(text))\n",
    "#md(\"Diperoleh nilai $t' = {:.2f}$ yang mana ini berarti berada di daerah kritis sehingga $H_0$ ditolak\".format(tAB))"
   ]
  },
  {
   "cell_type": "code",
   "execution_count": 58,
   "metadata": {},
   "outputs": [
    {
     "data": {
      "text/plain": [
       "91.14271205376299"
      ]
     },
     "execution_count": 58,
     "metadata": {},
     "output_type": "execute_result"
    }
   ],
   "source": [
    "# nilai v\n",
    "vAB = v(stdSampAB1,stdSampAB2,nSampAB1,nSampAB2)\n",
    "vAB"
   ]
  },
  {
   "cell_type": "markdown",
   "metadata": {},
   "source": [
    "__Daerah kritis__\n",
    "- $t'$ < -$t_α$$_/$$_2$ *atau*\n",
    "- $t'$ > $t_α$$_/$$_2$\n",
    "<br><br>\n",
    "Dengan derajat kebebasan $v = 91.14 = 91$ dan $α = 0.05$ maka diperoleh daerah kritis sebagai berikut\n",
    "- $t'$ < -$1.986$ *atau*\n",
    "- $t'$ > $1.986$"
   ]
  },
  {
   "cell_type": "code",
   "execution_count": 59,
   "metadata": {},
   "outputs": [
    {
     "data": {
      "text/markdown": [
       "Diperoleh nilai $t' = 91.14$ yang mana ini berarti berada di daerah kritis sehingga $H_0$ ditolak"
      ],
      "text/plain": [
       "<IPython.core.display.Markdown object>"
      ]
     },
     "metadata": {},
     "output_type": "display_data"
    }
   ],
   "source": [
    "displaymd(\"Diperoleh nilai $t' = {:.2f}$ yang mana ini berarti berada di daerah kritis sehingga $H_0$ ditolak\".format(vAB))"
   ]
  },
  {
   "cell_type": "markdown",
   "metadata": {},
   "source": [
    "#### 5) Menghitung nilai uji statistik dari data sample dan menghitung p-value-nya"
   ]
  },
  {
   "cell_type": "code",
   "execution_count": 34,
   "metadata": {},
   "outputs": [
    {
     "data": {
      "text/plain": [
       "7.89361673226725"
      ]
     },
     "execution_count": 34,
     "metadata": {},
     "output_type": "execute_result"
    }
   ],
   "source": [
    "# nilai t\n",
    "tAB = t_aksen(meanSampAB1, meanSampAB2, nSampAB1, nSampAB2, stdSampAB1, stdSampAB2, 0)\n",
    "tAB"
   ]
  },
  {
   "cell_type": "markdown",
   "metadata": {},
   "source": [
    "Diperoleh nilai $t' = {7.89}$ yang mana ini berarti berada di daerah kritis sehingga $H_0$ ditolak. <br>\n",
    "p-value yang diperoleh juga sangat kecil $< α$, sehingga $H_0$ ditolak. "
   ]
  },
  {
   "cell_type": "code",
   "execution_count": 33,
   "metadata": {},
   "outputs": [
    {
     "data": {
      "text/plain": [
       "Ttest_indResult(statistic=7.893616732267251, pvalue=4.275157418567506e-12)"
      ]
     },
     "execution_count": 33,
     "metadata": {},
     "output_type": "execute_result"
    }
   ],
   "source": [
    "# buat nyocokin hasil\n",
    "stats.ttest_ind(sampAB1,sampAB2)"
   ]
  },
  {
   "cell_type": "markdown",
   "metadata": {},
   "source": [
    "#### 6) Mengambil keputusan\n",
    "Keputusannya adalah menolak $H_0$, rata-rata dari dua bagian kolom tidak sama"
   ]
  },
  {
   "cell_type": "markdown",
   "metadata": {},
   "source": [
    "***"
   ]
  },
  {
   "cell_type": "markdown",
   "metadata": {},
   "source": [
    "#### Data kolom Kadar Air dibagi 2 sama rata: bagian awal dan bagian akhir kolom. Benarkah rata-rata bagian awal lebih besar dari pada bagian akhir sebesar 0.2?"
   ]
  },
  {
   "cell_type": "code",
   "execution_count": 37,
   "metadata": {},
   "outputs": [],
   "source": [
    "# generate sample data 1 (250 data pertama)\n",
    "dataKA1 = dataset['KadarAir'].head(250)\n",
    "sampKA1 = dataKA1.sample(n=50)"
   ]
  },
  {
   "cell_type": "code",
   "execution_count": 38,
   "metadata": {},
   "outputs": [],
   "source": [
    "# generate sample data 2 (250 data terakhir)\n",
    "dataKA2 = dataset['KadarAir'].tail(250)\n",
    "sampKA2 = dataKA2.sample(n=50)"
   ]
  },
  {
   "cell_type": "code",
   "execution_count": 39,
   "metadata": {},
   "outputs": [],
   "source": [
    "# data-data yang dibutuhkan\n",
    "\n",
    "# rata-rata sampel\n",
    "meanSampKA1 = sampKA1.mean()\n",
    "meanSampKA2 = sampKA2.mean()\n",
    "\n",
    "# std populasi\n",
    "stdSampKA1 = sampKA1.std()\n",
    "stdSampKA2 = sampKA2.std()\n",
    "\n",
    "# n sampel\n",
    "nSampKA1 = sampKA1.count()\n",
    "nSampKA2 = sampKA2.count()"
   ]
  },
  {
   "cell_type": "markdown",
   "metadata": {},
   "source": [
    "#### 1) Menentukan hipotesis nol\n",
    "- $H_0 : μ_1 = μ_2$ *sehingga*\n",
    "- $H_0 : μ_1 - μ_2 = 0$"
   ]
  },
  {
   "cell_type": "markdown",
   "metadata": {},
   "source": [
    "#### 2) Menentukan hipotesis alternatif\n",
    "- $H_1 : μ_1 > μ_2 + 0.2$ *sehingga*\n",
    "- $H_1 : μ_1 - μ_2 > 0.2$ *(one tailed test)*"
   ]
  },
  {
   "cell_type": "markdown",
   "metadata": {},
   "source": [
    "#### 3) Menentukan tingkat signifikan α\n",
    "- $α = 0.05$"
   ]
  },
  {
   "cell_type": "markdown",
   "metadata": {},
   "source": [
    "#### 4) Menentukan uji statistik yang sesuai dan menentukan daerah kritis\n",
    "standar deviasi kedua populasi tidak diketahui dan diasumsikan __tidak sama__,<br>\n",
    "maka digunakan t-distribution untuk memperoleh p-value"
   ]
  },
  {
   "cell_type": "code",
   "execution_count": 41,
   "metadata": {},
   "outputs": [
    {
     "data": {
      "text/plain": [
       "97.74333221121655"
      ]
     },
     "execution_count": 41,
     "metadata": {},
     "output_type": "execute_result"
    }
   ],
   "source": [
    "# nilai v\n",
    "v(stdSampKA1,stdSampKA2,nSampKA1,nSampKA2)"
   ]
  },
  {
   "cell_type": "markdown",
   "metadata": {},
   "source": [
    "__Daerah kritis__\n",
    "- $t'$ $>$ $t_α$\n",
    "<br><br>\n",
    "Dengan derajat kebebasan $v = 97.74 = 98$ dan $α = 0.05$ maka diperoleh daerah kritis sebagai berikut\n",
    "- $t'$ $>$ $1.661$"
   ]
  },
  {
   "cell_type": "markdown",
   "metadata": {},
   "source": [
    "#### 5) Menghitung nilai uji statistik dari data sample dan menghitung p-value-nya"
   ]
  },
  {
   "cell_type": "code",
   "execution_count": 40,
   "metadata": {},
   "outputs": [
    {
     "data": {
      "text/plain": [
       "-12.136360705410054"
      ]
     },
     "execution_count": 40,
     "metadata": {},
     "output_type": "execute_result"
    }
   ],
   "source": [
    "# nilai t\n",
    "t_aksen(meanSampKA1, meanSampKA2, nSampKA1, nSampKA2, stdSampKA1, stdSampKA2, 0.2)"
   ]
  },
  {
   "cell_type": "markdown",
   "metadata": {},
   "source": [
    "Diperoleh nilai $t' = -12.14$ yang mana ini berarti tidak berada di daerah kritis sehingga $H_0$ diterima. p-value yang diperoleh juga mendekati 1 yang mana ini $>α$, sehingga $H_0$ diterima. "
   ]
  },
  {
   "cell_type": "markdown",
   "metadata": {},
   "source": [
    "#### 6) Mengambil keputusan\n",
    "Keputusannya adalah menerima $H_0$, rata-rata bagian awal tidak lebih besar dari pada bagian akhir"
   ]
  },
  {
   "cell_type": "markdown",
   "metadata": {},
   "source": [
    "***"
   ]
  },
  {
   "cell_type": "markdown",
   "metadata": {},
   "source": [
    "#### Rata-rata 20 baris pertama kolom Bulatan sama dengan 20 baris terakhirnya?"
   ]
  },
  {
   "cell_type": "code",
   "execution_count": 50,
   "metadata": {},
   "outputs": [],
   "source": [
    "# generate sample data 1 (20 baris pertama)\n",
    "sampBul1 = dataset['Bulatan'].head(20)"
   ]
  },
  {
   "cell_type": "code",
   "execution_count": 51,
   "metadata": {},
   "outputs": [],
   "source": [
    "# generate sample data 1 (20 baris terakhir)\n",
    "sampBul2 = dataset['Bulatan'].tail(20)"
   ]
  },
  {
   "cell_type": "code",
   "execution_count": 52,
   "metadata": {},
   "outputs": [],
   "source": [
    "# data-data yang dibutuhkan\n",
    "\n",
    "# rata-rata sampel\n",
    "meanSampBul1 = sampBul1.mean()\n",
    "meanSampBul2 = sampBul2.mean()\n",
    "\n",
    "# std populasi\n",
    "stdSampBul1 = sampBul1.std()\n",
    "stdSampBul2 = sampBul2.std()\n",
    "\n",
    "# n sampel\n",
    "nSampBul1 = sampBul1.count()\n",
    "nSampBul2 = sampBul2.count()"
   ]
  },
  {
   "cell_type": "markdown",
   "metadata": {},
   "source": [
    "#### 1) Menentukan hipotesis nol\n",
    "- $H_0 : μ_1 = μ_2$ *sehingga*\n",
    "- $H_0 : μ_1 - μ_2 = 0$"
   ]
  },
  {
   "cell_type": "markdown",
   "metadata": {},
   "source": [
    "#### 2) Menentukan hipotesis alternatif\n",
    "- $H_1 : μ_1 ≠ μ_2$ *sehingga*\n",
    "- $H_1 : μ_1 - μ_2 ≠ 0$ *(two tailed test)*"
   ]
  },
  {
   "cell_type": "markdown",
   "metadata": {},
   "source": [
    "#### 3) Menentukan tingkat signifikan α\n",
    "- $α = 0.05$"
   ]
  },
  {
   "cell_type": "markdown",
   "metadata": {},
   "source": [
    "#### 4) Menentukan uji statistik yang sesuai dan menentukan daerah kritis\n",
    "\n",
    "standar deviasi kedua populasi tidak diketahui dan diasumsikan __tidak sama__,<br>\n",
    "maka digunakan t-distribution untuk memperoleh p-value"
   ]
  },
  {
   "cell_type": "code",
   "execution_count": 53,
   "metadata": {},
   "outputs": [
    {
     "data": {
      "text/plain": [
       "36.70006222999689"
      ]
     },
     "execution_count": 53,
     "metadata": {},
     "output_type": "execute_result"
    }
   ],
   "source": [
    "# nilai v\n",
    "v(stdSampBul1,stdSampBul2,nSampBul1,nSampBul2)"
   ]
  },
  {
   "cell_type": "markdown",
   "metadata": {},
   "source": [
    "__Daerah kritis__\n",
    "- $t'$ < -$t_α$$_/$$_2$ *atau*\n",
    "- $t'$ > $t_α$$_/$$_2$\n",
    "<br><br>\n",
    "Dengan derajat kebebasan $v = 36.7 = 37$ dan $α = 0.05$ maka diperoleh daerah kritis sebagai berikut\n",
    "- $t'$ < $-2.026$ *atau*\n",
    "- $t'$ > $2.026$"
   ]
  },
  {
   "cell_type": "markdown",
   "metadata": {},
   "source": [
    "#### 5) Menghitung nilai uji statistik dari data sample dan menghitung p-value-nya"
   ]
  },
  {
   "cell_type": "code",
   "execution_count": 54,
   "metadata": {},
   "outputs": [
    {
     "data": {
      "text/plain": [
       "-3.3792268633124025"
      ]
     },
     "execution_count": 54,
     "metadata": {},
     "output_type": "execute_result"
    }
   ],
   "source": [
    "# nilai t\n",
    "t_aksen(meanSampBul1, meanSampBul2, nSampBul1, nSampBul2, stdSampBul1, stdSampBul2, 0)"
   ]
  },
  {
   "cell_type": "markdown",
   "metadata": {},
   "source": [
    "Diperoleh nilai $t' = -3.38$ yang mana ini berarti berada di daerah kritis sehingga $H_0$ ditolak. <br>\n",
    "p-value yang diperoleh juga $< α$, sehingga $H_0$ ditolak. "
   ]
  },
  {
   "cell_type": "code",
   "execution_count": 160,
   "metadata": {},
   "outputs": [
    {
     "data": {
      "text/plain": [
       "Ttest_indResult(statistic=-3.3792268633123648, pvalue=0.0016919037522060854)"
      ]
     },
     "execution_count": 160,
     "metadata": {},
     "output_type": "execute_result"
    }
   ],
   "source": [
    "# buat nyocokin hasil\n",
    "stats.ttest_ind(sampBul1,sampBul2)"
   ]
  },
  {
   "cell_type": "markdown",
   "metadata": {},
   "source": [
    "#### 6) Mengambil keputusan\n",
    "Keputusannya adalah menolak $H_0$, rata-rata 20 baris pertama kolom Bulatan tidak sama dengan 20 baris terakhirnya"
   ]
  },
  {
   "cell_type": "markdown",
   "metadata": {},
   "source": [
    "***"
   ]
  },
  {
   "cell_type": "markdown",
   "metadata": {},
   "source": [
    "#### Proporsi nilai bagian awal Ransum yang lebih dari 2, adalah lebih besar daripada, proporsi nilai yang sama di bagian akhir Ransum?"
   ]
  },
  {
   "cell_type": "code",
   "execution_count": 13,
   "metadata": {},
   "outputs": [
    {
     "data": {
      "text/plain": [
       "249"
      ]
     },
     "execution_count": 13,
     "metadata": {},
     "output_type": "execute_result"
    }
   ],
   "source": [
    "# generate sample data 1 (250 data pertama)\n",
    "dataR1 = dataset['Ransum'].head(250)\n",
    "\n",
    "# filter, cari yang lebih dari 2\n",
    "filterR1 = sampR1[dataR1>2]\n",
    "nfilterR1 = filterR1.count()\n",
    "nfilterR1"
   ]
  },
  {
   "cell_type": "code",
   "execution_count": 15,
   "metadata": {},
   "outputs": [
    {
     "data": {
      "text/plain": [
       "18"
      ]
     },
     "execution_count": 15,
     "metadata": {},
     "output_type": "execute_result"
    }
   ],
   "source": [
    "# generate sample data 2 (250 data pertama)\n",
    "dataR2 = dataset['Ransum'].tail(250)\n",
    "\n",
    "# filter, cari yang lebih dari 2\n",
    "filterR2 = sampR2[dataR2>2]\n",
    "nfilterR2 = filterR2.count()\n",
    "nfilterR2"
   ]
  },
  {
   "cell_type": "markdown",
   "metadata": {},
   "source": [
    "#### 1) Menentukan hipotesis nol\n",
    "- $H_0 : p_1 = p_2$ *sehingga*\n",
    "- $H_0 : p_1 - p_2=0$<br>\n",
    "dengan $p_1$ merupakan proporsi dari nilai bagian awal Ransum yang setiap nilainya lebih dari 2, demikian juga dengan $p_2$"
   ]
  },
  {
   "cell_type": "markdown",
   "metadata": {},
   "source": [
    "#### 2) Menentukan hipotesis alternatif\n",
    "- $H_1 : p_1 > p_2$ *sehingga*\n",
    "- $H_1 : p_1 - p_2>0$ *(one tailed test)*<br> \n",
    "dengan $p_1$ merupakan proporsi dari nilai bagian awal Ransum yang setiap nilainya lebih dari 2, demikian juga dengan $p_2$"
   ]
  },
  {
   "cell_type": "markdown",
   "metadata": {},
   "source": [
    "#### 3) Menentukan tingkat signifikan α\n",
    "- $α = 0.05$"
   ]
  },
  {
   "cell_type": "markdown",
   "metadata": {},
   "source": [
    "#### 4) Menentukan uji statistik yang sesuai dan menentukan daerah kritis\n",
    "uji statistik yang digunakan adalah uji statistik normal<br>"
   ]
  },
  {
   "cell_type": "markdown",
   "metadata": {},
   "source": [
    "__Daerah kritis__\n",
    "- $z$ $>$ $z_α$\n",
    "<br><br>\n",
    "Dengan $α = 0.05$ maka diperoleh daerah kritis sebagai berikut\n",
    "- $z$ $>$ $1.645$"
   ]
  },
  {
   "cell_type": "markdown",
   "metadata": {},
   "source": [
    "#### 5) Menghitung nilai uji statistik dari data sample dan menghitung p-value-nya"
   ]
  },
  {
   "cell_type": "code",
   "execution_count": 49,
   "metadata": {},
   "outputs": [],
   "source": [
    "# fungsi-fungsi yang digunakan\n",
    "def z(ptopi1,ptopi2,n1,n2,ptopi):\n",
    "    pembilang = ptopi1 - ptopi2\n",
    "    qtopi = 1-ptopi\n",
    "    penyebut = sqrt(ptopi*qtopi*((1/n1) + (1/n2)))\n",
    "    return(pembilang/penyebut)\n",
    "\n",
    "def ptopi(x1,n1,x2,n2):\n",
    "    pembilang = x1 + x2\n",
    "    penyebut = n1 + n2\n",
    "    return(pembilang/penyebut)"
   ]
  },
  {
   "cell_type": "code",
   "execution_count": 54,
   "metadata": {},
   "outputs": [
    {
     "data": {
      "text/markdown": [
       "nilai z yang diperoleh adalah 20.71"
      ],
      "text/plain": [
       "<IPython.core.display.Markdown object>"
      ]
     },
     "metadata": {},
     "output_type": "display_data"
    }
   ],
   "source": [
    "# mencari niai ptopi\n",
    "ptopinya = ptopi(nfilterR1,250,nfilterR2,250)\n",
    "ptopi1 = nfilterR1/250\n",
    "ptopi2 = nfilterR2/250\n",
    "\n",
    "# mencari nilai z\n",
    "znya = z(ptopi1,ptopi2,250,250,ptopinya)\n",
    "displaymd(\"nilai z yang diperoleh adalah {:.2f}\".format(znya))"
   ]
  },
  {
   "cell_type": "markdown",
   "metadata": {},
   "source": [
    "Diperoleh nilai $z = 20.71$ yang mana ini berarti berada di daerah kritis sehingga $H_0$ ditolak. Sedangkan p-value yang diperoleh juga sangat kecil $ < .00001$ yang mana ini berarti $p<α$, sehingga $H_0$ ditolak. "
   ]
  },
  {
   "cell_type": "markdown",
   "metadata": {},
   "source": [
    "#### 6) Mengambil keputusan\n",
    "Menolak $H_0$. Proporsi nilai bagian awal Ransum yang lebih dari 2, adalah lebih besar daripada, proporsi nilai yang sama di bagian akhir Ransum"
   ]
  },
  {
   "cell_type": "markdown",
   "metadata": {},
   "source": [
    "***"
   ]
  },
  {
   "cell_type": "markdown",
   "metadata": {},
   "source": [
    "#### Bagian awal kolom Diameter memiliki variansi yang sama dengan bagian akhirnya?"
   ]
  },
  {
   "cell_type": "code",
   "execution_count": 56,
   "metadata": {},
   "outputs": [],
   "source": [
    "# generate sample data 1 (250 data pertama)\n",
    "dataD1 = dataset['Diameter'].head(250)\n",
    "sampD1 = dataD1.sample(n=50)"
   ]
  },
  {
   "cell_type": "code",
   "execution_count": 57,
   "metadata": {},
   "outputs": [],
   "source": [
    "# generate sample data 2 (250 data pertama)\n",
    "dataD2 = dataset['Diameter'].head(250)\n",
    "sampD2 = dataD2.sample(n=50)"
   ]
  },
  {
   "cell_type": "code",
   "execution_count": 58,
   "metadata": {},
   "outputs": [],
   "source": [
    "# data-data yang dibutuhkan\n",
    "\n",
    "# rata-rata sampel\n",
    "meanSampD1 = sampD1.mean()\n",
    "meanSampD2 = sampD2.mean()\n",
    "\n",
    "# std populasi\n",
    "stdSampD1 = sampD1.std()\n",
    "stdSampD2 = sampD2.std()\n",
    "\n",
    "# n sampel\n",
    "nSampD1 = sampD1.count()\n",
    "nSampD2 = sampD2.count()"
   ]
  },
  {
   "cell_type": "markdown",
   "metadata": {},
   "source": [
    "#### 1) Menentukan hipotesis nol\n",
    "- $H_0 : σ_1^2 = σ_2^2$<br>\n",
    "Dengan $σ_1^2$ yang merupakan variansi bagian awal sedangkan $σ_2^2$ adalah variansi bagian akhir"
   ]
  },
  {
   "cell_type": "markdown",
   "metadata": {},
   "source": [
    "#### 2) Menentukan hipotesis alternatif\n",
    "- $H_1 : σ_1^2 ≠ σ_2^2$ *(two tailed test)*<br>\n",
    "Dengan $σ_1^2$ yang merupakan variansi bagian awal sedangkan $σ_2^2$ adalah variansi bagian akhir"
   ]
  },
  {
   "cell_type": "markdown",
   "metadata": {},
   "source": [
    "#### 3) Menentukan tingkat signifikan α\n",
    "- $α = 0.05$"
   ]
  },
  {
   "cell_type": "markdown",
   "metadata": {},
   "source": [
    "#### 4) Menentukan uji statistik yang sesuai dan menentukan daerah kritis\n",
    "uji statistik yang digunakan adalah uji statistik dengan distribusi f"
   ]
  },
  {
   "cell_type": "markdown",
   "metadata": {},
   "source": [
    "__Daerah kritis__\n",
    "- $f<$ $f_1$$_-$$_α$$_/$$_2(v_1,v_2)$ *atau*\n",
    "- $f>$ $f_α$$_/$$_2(v_1,v_2)$\n",
    "<br><br>\n",
    "$v_1 = n_1-1$ dan $v_2 = n_2-1$<br>\n",
    "maka dengan $α = 0.05$, $v_1 = 49$ dan $v_2 = 49$ maka diperoleh daerah kritis sebagai berikut\n",
    "- $f$ $>$ $1.76$ *atau*\n",
    "- $f$ $<$ $0.57$"
   ]
  },
  {
   "cell_type": "markdown",
   "metadata": {},
   "source": [
    "#### 5) Menghitung nilai uji statistik dari data sample dan menghitung p-value-nya"
   ]
  },
  {
   "cell_type": "code",
   "execution_count": 64,
   "metadata": {},
   "outputs": [
    {
     "data": {
      "text/plain": [
       "1.18230627787226"
      ]
     },
     "execution_count": 64,
     "metadata": {},
     "output_type": "execute_result"
    }
   ],
   "source": [
    "f=stdSampD1**2/stdSampD2**2\n",
    "f"
   ]
  },
  {
   "cell_type": "markdown",
   "metadata": {},
   "source": [
    "Diperoleh nilai $f = 1.182$ yang mana ini berarti $0.57<1.18<1.76$, tidak berada di daerah kritis sehingga $H_0$ diterima."
   ]
  },
  {
   "cell_type": "markdown",
   "metadata": {},
   "source": [
    "#### 6) Mengambil keputusan\n",
    "Menerima $H_0$. Bagian awal kolom Diameter memiliki variansi yang sama dengan bagian akhirnya"
   ]
  },
  {
   "cell_type": "markdown",
   "metadata": {},
   "source": [
    "# 6. Melakukan Test Korelasi"
   ]
  },
  {
   "cell_type": "code",
   "execution_count": 113,
   "metadata": {},
   "outputs": [],
   "source": [
    "# Rumus Pearson Correlation diaplikasikan pada dataframe\n",
    "def pearson_correlation(x1,x2):\n",
    "    df1=pd.DataFrame(data=dataset,columns=[x1])\n",
    "    df2=pd.DataFrame(data=dataset,columns=[x2])\n",
    "    N=int(df1.count())  \n",
    "    sumxy = 0\n",
    "    sumx = 0\n",
    "    sumy = 0\n",
    "    sumxsq = 0\n",
    "    sumysq = 0\n",
    "    for i in range (N):\n",
    "        sumxy = sumxy + float(df1.loc[i])*float(df2.loc[i])\n",
    "        sumx = sumx + float(df1.loc[i])\n",
    "        sumy = sumy + float(df2.loc[i])\n",
    "        sumxsq = sumxsq + float(df1.loc[i])**2\n",
    "        sumysq = sumysq + float(df2.loc[i])**2\n",
    "    correlation = ((N*sumxy)-((sumx)*(sumy)))/math.sqrt(((N*sumxsq)-sumx**2)*(((N*sumysq))-sumy**2))\n",
    "    return correlation\n",
    "# Ambil kesimpulan berdasarkan korelasi yang ada\n",
    "def conclude_correlation(x1, x2):\n",
    "    corr = pearson_correlation(x1,x2)\n",
    "    print(\"Koefisien korelasi sebesar \", corr, \"\\n\")\n",
    "    print(x1, \"dan\", x2, end=\"\")\n",
    "    if(corr==0):\n",
    "        print(\"tidak berkorelasi sama sekali\\n\")\n",
    "    else: \n",
    "        if(corr>0):\n",
    "            print(\" berkorelasi positif \",end=\"\")\n",
    "        else:\n",
    "            print(\" berkorelasi negatif \", end=\"\")\n",
    "        abscorr=abs(corr)\n",
    "        if(abscorr>=0.91 and abscorr<=1.0):\n",
    "            print(\"sangat tinggi\\n\")\n",
    "        elif(abscorr>=0.71 and abscorr<=0.9):\n",
    "            print(\"tinggi\\n\")\n",
    "        elif(abscorr>=0.51 and abscorr<=0.7):\n",
    "            print(\"medium\\n\")\n",
    "        elif(abscorr>=0.31 and abscorr<=0.5):\n",
    "            print(\"rendah\\n\")\n",
    "        else:\n",
    "            print(\"sangat rendah\\n\")"
   ]
  },
  {
   "cell_type": "markdown",
   "metadata": {},
   "source": [
    "### Korelasi Daerah dan Kelas"
   ]
  },
  {
   "cell_type": "code",
   "execution_count": 114,
   "metadata": {},
   "outputs": [
    {
     "name": "stdout",
     "output_type": "stream",
     "text": [
      "Koefisien korelasi sebesar  -0.6027466517416662 \n",
      "\n",
      "Daerah dan Kelas berkorelasi negatif medium\n",
      "\n"
     ]
    },
    {
     "data": {
      "image/png": "[encoded data removed]",
      "text/plain": [
       "<Figure size 432x288 with 1 Axes>"
      ]
     },
     "metadata": {
      "needs_background": "light"
     },
     "output_type": "display_data"
    }
   ],
   "source": [
    "df = pd.DataFrame(data=dataset, columns=['Daerah','Kelas'])\n",
    "df.plot(kind='scatter',x='Daerah',y='Kelas')\n",
    "conclude_correlation('Daerah','Kelas')"
   ]
  },
  {
   "cell_type": "code",
   "execution_count": 115,
   "metadata": {},
   "outputs": [
    {
     "name": "stdout",
     "output_type": "stream",
     "text": [
      "Koefisien korelasi sebesar  -0.7130906104204733 \n",
      "\n",
      "SumbuUtama dan Kelas berkorelasi negatif tinggi\n",
      "\n"
     ]
    },
    {
     "data": {
      "image/png": "[encoded data removed]",
      "text/plain": [
       "<Figure size 432x288 with 1 Axes>"
      ]
     },
     "metadata": {
      "needs_background": "light"
     },
     "output_type": "display_data"
    }
   ],
   "source": [
    "df = pd.DataFrame(data=dataset, columns=['SumbuUtama','Kelas'])\n",
    "df.plot(kind='scatter',x='SumbuUtama',y='Kelas')\n",
    "conclude_correlation('SumbuUtama','Kelas')"
   ]
  },
  {
   "cell_type": "code",
   "execution_count": 116,
   "metadata": {},
   "outputs": [
    {
     "name": "stdout",
     "output_type": "stream",
     "text": [
      "Koefisien korelasi sebesar  -0.15297517335536476 \n",
      "\n",
      "SumbuKecil dan Kelas berkorelasi negatif sangat rendah\n",
      "\n"
     ]
    },
    {
     "data": {
      "image/png": "[encoded data removed]",
      "text/plain": [
       "<Figure size 432x288 with 1 Axes>"
      ]
     },
     "metadata": {
      "needs_background": "light"
     },
     "output_type": "display_data"
    }
   ],
   "source": [
    "df = pd.DataFrame(data=dataset, columns=['SumbuKecil','Kelas'])\n",
    "df.plot(kind='scatter',x='SumbuKecil',y='Kelas')\n",
    "conclude_correlation('SumbuKecil','Kelas')"
   ]
  },
  {
   "cell_type": "code",
   "execution_count": 117,
   "metadata": {},
   "outputs": [
    {
     "name": "stdout",
     "output_type": "stream",
     "text": [
      "Koefisien korelasi sebesar  -0.7304563686515266 \n",
      "\n",
      "Keunikan dan Kelas berkorelasi negatif tinggi\n",
      "\n"
     ]
    },
    {
     "data": {
      "image/png": "[encoded data removed]",
      "text/plain": [
       "<Figure size 432x288 with 1 Axes>"
      ]
     },
     "metadata": {
      "needs_background": "light"
     },
     "output_type": "display_data"
    }
   ],
   "source": [
    "df = pd.DataFrame(data=dataset, columns=['Keunikan','Kelas'])\n",
    "df.plot(kind='scatter',x='Keunikan',y='Kelas')\n",
    "conclude_correlation('Keunikan','Kelas')"
   ]
  },
  {
   "cell_type": "code",
   "execution_count": 118,
   "metadata": {},
   "outputs": [
    {
     "name": "stdout",
     "output_type": "stream",
     "text": [
      "Koefisien korelasi sebesar  -0.6073125434153754 \n",
      "\n",
      "AreaBulatan dan Kelas berkorelasi negatif medium\n",
      "\n"
     ]
    },
    {
     "data": {
      "image/png": "[encoded data removed]",
      "text/plain": [
       "<Figure size 432x288 with 1 Axes>"
      ]
     },
     "metadata": {
      "needs_background": "light"
     },
     "output_type": "display_data"
    }
   ],
   "source": [
    "df = pd.DataFrame(data=dataset, columns=['AreaBulatan','Kelas'])\n",
    "df.plot(kind='scatter',x='AreaBulatan',y='Kelas')\n",
    "conclude_correlation('AreaBulatan','Kelas')"
   ]
  },
  {
   "cell_type": "code",
   "execution_count": 119,
   "metadata": {},
   "outputs": [
    {
     "name": "stdout",
     "output_type": "stream",
     "text": [
      "Koefisien korelasi sebesar  -0.6025356896619258 \n",
      "\n",
      "Diameter dan Kelas berkorelasi negatif medium\n",
      "\n"
     ]
    },
    {
     "data": {
      "image/png": "[encoded data removed]",
      "text/plain": [
       "<Figure size 432x288 with 1 Axes>"
      ]
     },
     "metadata": {
      "needs_background": "light"
     },
     "output_type": "display_data"
    }
   ],
   "source": [
    "df = pd.DataFrame(data=dataset, columns=['Diameter','Kelas'])\n",
    "df.plot(kind='scatter',x='Diameter',y='Kelas')\n",
    "conclude_correlation('Diameter','Kelas')"
   ]
  },
  {
   "cell_type": "code",
   "execution_count": 120,
   "metadata": {},
   "outputs": [
    {
     "name": "stdout",
     "output_type": "stream",
     "text": [
      "Koefisien korelasi sebesar  0.1343442260572718 \n",
      "\n",
      "KadarAir dan Kelas berkorelasi positif sangat rendah\n",
      "\n"
     ]
    },
    {
     "data": {
      "image/png": "[encoded data removed]",
      "text/plain": [
       "<Figure size 432x288 with 1 Axes>"
      ]
     },
     "metadata": {
      "needs_background": "light"
     },
     "output_type": "display_data"
    }
   ],
   "source": [
    "df = pd.DataFrame(data=dataset, columns=['KadarAir','Kelas'])\n",
    "df.plot(kind='scatter',x='KadarAir',y='Kelas')\n",
    "conclude_correlation('KadarAir','Kelas')"
   ]
  },
  {
   "cell_type": "code",
   "execution_count": 121,
   "metadata": {},
   "outputs": [
    {
     "name": "stdout",
     "output_type": "stream",
     "text": [
      "Koefisien korelasi sebesar  -0.6348607454756865 \n",
      "\n",
      "Keliling dan Kelas berkorelasi negatif medium\n",
      "\n"
     ]
    },
    {
     "data": {
      "image/png": "[encoded data removed]",
      "text/plain": [
       "<Figure size 432x288 with 1 Axes>"
      ]
     },
     "metadata": {
      "needs_background": "light"
     },
     "output_type": "display_data"
    }
   ],
   "source": [
    "df = pd.DataFrame(data=dataset, columns=['Keliling','Kelas'])\n",
    "df.plot(kind='scatter',x='Keliling',y='Kelas')\n",
    "conclude_correlation('Keliling','Kelas')"
   ]
  },
  {
   "cell_type": "code",
   "execution_count": 84,
   "metadata": {},
   "outputs": [
    {
     "name": "stdout",
     "output_type": "stream",
     "text": [
      "0.545004531724125\n"
     ]
    },
    {
     "data": {
      "image/png": "[encoded data removed]",
      "text/plain": [
       "<Figure size 432x288 with 1 Axes>"
      ]
     },
     "metadata": {
      "needs_background": "light"
     },
     "output_type": "display_data"
    }
   ],
   "source": [
    "df = pd.DataFrame(data=dataset, columns=['Bulatan','Kelas'])\n",
    "df.plot(kind='scatter',x='Bulatan',y='Kelas')\n",
    "conclude_correlation('Bulatan','Kelas')"
   ]
  },
  {
   "cell_type": "code",
   "execution_count": 85,
   "metadata": {},
   "outputs": [
    {
     "name": "stdout",
     "output_type": "stream",
     "text": [
      "-0.8399038681288271\n"
     ]
    },
    {
     "data": {
      "image/png": "[encoded data removed]",
      "text/plain": [
       "<Figure size 432x288 with 1 Axes>"
      ]
     },
     "metadata": {
      "needs_background": "light"
     },
     "output_type": "display_data"
    }
   ],
   "source": [
    "df = pd.DataFrame(data=dataset, columns=['Ransum','Kelas'])\n",
    "df.plot(kind='scatter',x='Ransum',y='Kelas')\n",
    "print(pearson_correlation('Ransum','Kelas'))"
   ]
  },
  {
   "cell_type": "code",
   "execution_count": null,
   "metadata": {},
   "outputs": [],
   "source": []
  }
 ],
 "metadata": {
  "kernelspec": {
   "display_name": "Python 3",
   "language": "python",
   "name": "python3"
  },
  "language_info": {
   "codemirror_mode": {
    "name": "ipython",
    "version": 3
   },
   "file_extension": ".py",
   "mimetype": "text/x-python",
   "name": "python",
   "nbconvert_exporter": "python",
   "pygments_lexer": "ipython3",
   "version": "3.7.4"
  }
 },
 "nbformat": 4,
 "nbformat_minor": 2
}
